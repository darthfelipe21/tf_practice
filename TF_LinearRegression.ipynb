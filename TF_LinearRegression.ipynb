{
  "nbformat": 4,
  "nbformat_minor": 0,
  "metadata": {
    "colab": {
      "provenance": [],
      "authorship_tag": "ABX9TyPicVqOiQkwouecKCfRIYD0",
      "include_colab_link": true
    },
    "kernelspec": {
      "name": "python3",
      "display_name": "Python 3"
    },
    "language_info": {
      "name": "python"
    }
  },
  "cells": [
    {
      "cell_type": "markdown",
      "metadata": {
        "id": "view-in-github",
        "colab_type": "text"
      },
      "source": [
        "<a href=\"https://colab.research.google.com/github/darthfelipe21/tf_practice/blob/main/TF_LinearRegression.ipynb\" target=\"_parent\"><img src=\"https://colab.research.google.com/assets/colab-badge.svg\" alt=\"Open In Colab\"/></a>"
      ]
    },
    {
      "cell_type": "code",
      "execution_count": 4,
      "metadata": {
        "colab": {
          "base_uri": "https://localhost:8080/"
        },
        "id": "p9T2P3x6Mupj",
        "outputId": "fbf0effa-9fe2-45ba-c499-ba56b7657f03"
      },
      "outputs": [
        {
          "output_type": "stream",
          "name": "stdout",
          "text": [
            "/bin/bash: line 1: tensorflow_version: command not found\n"
          ]
        }
      ],
      "source": [
        "try:\n",
        "  !tensorflow_version 2.x\n",
        "except Exception:\n",
        "  pass\n",
        "\n",
        "import tensorflow as tf\n",
        "import numpy as np\n",
        "import matplotlib.pyplot as plt\n",
        "import pandas as pd"
      ]
    },
    {
      "cell_type": "code",
      "source": [
        "# Get data\n",
        "!wget https://raw.githubusercontent.com/lazyprogrammer/machine_learning_examples/master/tf2.0/moore.csv"
      ],
      "metadata": {
        "colab": {
          "base_uri": "https://localhost:8080/"
        },
        "id": "tSFOx3buOh_t",
        "outputId": "3d2f417d-9d1e-42e9-cbba-e8a2e6ede932"
      },
      "execution_count": 5,
      "outputs": [
        {
          "output_type": "stream",
          "name": "stdout",
          "text": [
            "--2025-08-21 21:35:53--  https://raw.githubusercontent.com/lazyprogrammer/machine_learning_examples/master/tf2.0/moore.csv\n",
            "Resolving raw.githubusercontent.com (raw.githubusercontent.com)... 185.199.108.133, 185.199.110.133, 185.199.111.133, ...\n",
            "Connecting to raw.githubusercontent.com (raw.githubusercontent.com)|185.199.108.133|:443... connected.\n",
            "HTTP request sent, awaiting response... 200 OK\n",
            "Length: 2302 (2.2K) [text/plain]\n",
            "Saving to: ‘moore.csv.1’\n",
            "\n",
            "\rmoore.csv.1           0%[                    ]       0  --.-KB/s               \rmoore.csv.1         100%[===================>]   2.25K  --.-KB/s    in 0s      \n",
            "\n",
            "2025-08-21 21:35:53 (23.9 MB/s) - ‘moore.csv.1’ saved [2302/2302]\n",
            "\n"
          ]
        }
      ]
    },
    {
      "cell_type": "code",
      "source": [
        "# Carga la Data\n",
        "data = pd.read_csv('moore.csv', header=None).to_numpy()\n",
        "\n",
        "data"
      ],
      "metadata": {
        "colab": {
          "base_uri": "https://localhost:8080/"
        },
        "id": "HWkFbjnIOoCE",
        "outputId": "143ca518-de78-41b6-dd12-6ca7011236ef"
      },
      "execution_count": 10,
      "outputs": [
        {
          "output_type": "execute_result",
          "data": {
            "text/plain": [
              "array([[       1971,        2300],\n",
              "       [       1972,        3500],\n",
              "       [       1973,        2500],\n",
              "       [       1973,        2500],\n",
              "       [       1974,        4100],\n",
              "       [       1974,        4500],\n",
              "       [       1974,        8000],\n",
              "       [       1975,        3510],\n",
              "       [       1976,        5000],\n",
              "       [       1976,        8500],\n",
              "       [       1976,        6500],\n",
              "       [       1978,        9000],\n",
              "       [       1978,       29000],\n",
              "       [       1979,       17500],\n",
              "       [       1979,       29000],\n",
              "       [       1979,       68000],\n",
              "       [       1981,       11500],\n",
              "       [       1982,       55000],\n",
              "       [       1982,      134000],\n",
              "       [       1983,       22000],\n",
              "       [       1984,       63000],\n",
              "       [       1984,      190000],\n",
              "       [       1985,      275000],\n",
              "       [       1985,       25000],\n",
              "       [       1985,       16000],\n",
              "       [       1986,      110000],\n",
              "       [       1986,      375000],\n",
              "       [       1986,       30000],\n",
              "       [       1987,      385000],\n",
              "       [       1987,      730000],\n",
              "       [       1987,      273000],\n",
              "       [       1987,      553000],\n",
              "       [       1988,      180000],\n",
              "       [       1988,      250000],\n",
              "       [       1989,      600000],\n",
              "       [       1989,     1000000],\n",
              "       [       1989,     1180235],\n",
              "       [       1989,      310000],\n",
              "       [       1990,     1200000],\n",
              "       [       1991,     1350000],\n",
              "       [       1991,       35000],\n",
              "       [       1992,      600000],\n",
              "       [       1992,      900000],\n",
              "       [       1993,     2800000],\n",
              "       [       1993,     3100000],\n",
              "       [       1994,      578977],\n",
              "       [       1994,     2500000],\n",
              "       [       1995,     2500000],\n",
              "       [       1999,      111000],\n",
              "       [       1995,     5500000],\n",
              "       [       1996,     4300000],\n",
              "       [       1997,    10000000],\n",
              "       [       1997,     7500000],\n",
              "       [       1997,     8800000],\n",
              "       [       1998,     7500000],\n",
              "       [       1999,     9500000],\n",
              "       [       1999,    13500000],\n",
              "       [       2000,    21000000],\n",
              "       [       2000,    21000000],\n",
              "       [       1999,    27400000],\n",
              "       [       1999,    21300000],\n",
              "       [       1999,    22000000],\n",
              "       [       2000,    42000000],\n",
              "       [       2001,   191000000],\n",
              "       [       2001,    45000000],\n",
              "       [       2002,    55000000],\n",
              "       [       2004,   112000000],\n",
              "       [       2004,   400000000],\n",
              "       [       2005,   169000000],\n",
              "       [       2006,   184000000],\n",
              "       [       2005,   228000000],\n",
              "       [       2006,   362000000],\n",
              "       [       2007,   540000000],\n",
              "       [       2008,    47000000],\n",
              "       [       2003,    54300000],\n",
              "       [       2003,   105900000],\n",
              "       [       2002,   220000000],\n",
              "       [       2005,   165000000],\n",
              "       [       2005,   250000000],\n",
              "       [       2006,   291000000],\n",
              "       [       2007,   169000000],\n",
              "       [       2003,   410000000],\n",
              "       [       2008,   600000000],\n",
              "       [       2009,   760000000],\n",
              "       [       2011,  1870000000],\n",
              "       [       2012,   432000000],\n",
              "       [       2007,   463000000],\n",
              "       [       2007,    26000000],\n",
              "       [       2008,   230000000],\n",
              "       [       2004,   592000000],\n",
              "       [       2007,   411000000],\n",
              "       [       2008,   731000000],\n",
              "       [       2008,   758000000],\n",
              "       [       2007,   789000000],\n",
              "       [       2009,   904000000],\n",
              "       [       2010,  1000000000],\n",
              "       [       2012,  2990000000],\n",
              "       [       2013,  1000000000],\n",
              "       [       2011,  1160000000],\n",
              "       [       2010,  1170000000],\n",
              "       [       2010,  1200000000],\n",
              "       [       2012,  1200000000],\n",
              "       [       2012,  1303000000],\n",
              "       [       2010,  1400000000],\n",
              "       [       2012,  1400000000],\n",
              "       [       2014,  1400000000],\n",
              "       [       2006,  1700000000],\n",
              "       [       2015,  1750000000],\n",
              "       [       2013,  1860000000],\n",
              "       [       2015,  1900000000],\n",
              "       [       2008,  1900000000],\n",
              "       [       2010,  2000000000],\n",
              "       [       2014,  2000000000],\n",
              "       [       2015,  2000000000],\n",
              "       [       2015,  3000000000],\n",
              "       [       2012,  2100000000],\n",
              "       [       2011,  2270000000],\n",
              "       [       2010,  2300000000],\n",
              "       [       2014,  2600000000],\n",
              "       [       2011,  2600000000],\n",
              "       [       2012,  2750000000],\n",
              "       [       2014,  3000000000],\n",
              "       [       2016,  3000000000],\n",
              "       [       2017,  5300000000],\n",
              "       [       2017,  5300000000],\n",
              "       [       2018,  8500000000],\n",
              "       [       2012,  3100000000],\n",
              "       [       2016,  3200000000],\n",
              "       [       2016,  3300000000],\n",
              "       [       2015,  3990000000],\n",
              "       [       2013,  4200000000],\n",
              "       [       2017,  4300000000],\n",
              "       [       2014,  4310000000],\n",
              "       [       2017,  4800000000],\n",
              "       [       2017,  4800000000],\n",
              "       [       2017,  4800000000],\n",
              "       [       2012,  5000000000],\n",
              "       [       2013,  5000000000],\n",
              "       [       2014,  5560000000],\n",
              "       [       2017,  6100000000],\n",
              "       [       2018,  6900000000],\n",
              "       [       2016,  4000000000],\n",
              "       [       2018,  6900000000],\n",
              "       [       2017,  5500000000],\n",
              "       [       2018,  5500000000],\n",
              "       [       2017,  7000000000],\n",
              "       [       2015,  7100000000],\n",
              "       [       2017,  8000000000],\n",
              "       [       2016,  7200000000],\n",
              "       [       2017,  8000000000],\n",
              "       [       2016,  8000000000],\n",
              "       [       2017,  9700000000],\n",
              "       [       2017,   250000000],\n",
              "       [       2015, 10000000000],\n",
              "       [       2017,  5450000000],\n",
              "       [       2018, 10000000000],\n",
              "       [       2017,  4300000000],\n",
              "       [       2017, 18000000000],\n",
              "       [       2017, 19200000000],\n",
              "       [       2018,  8876000000],\n",
              "       [       2018, 23600000000],\n",
              "       [       2018,  9000000000]])"
            ]
          },
          "metadata": {},
          "execution_count": 10
        }
      ]
    },
    {
      "cell_type": "code",
      "source": [
        "data[:,0]"
      ],
      "metadata": {
        "colab": {
          "base_uri": "https://localhost:8080/"
        },
        "id": "bnYRqpZglX_G",
        "outputId": "1d04a781-44be-4f5e-efef-b58fe47e4436"
      },
      "execution_count": 15,
      "outputs": [
        {
          "output_type": "execute_result",
          "data": {
            "text/plain": [
              "array([1971, 1972, 1973, 1973, 1974, 1974, 1974, 1975, 1976, 1976, 1976,\n",
              "       1978, 1978, 1979, 1979, 1979, 1981, 1982, 1982, 1983, 1984, 1984,\n",
              "       1985, 1985, 1985, 1986, 1986, 1986, 1987, 1987, 1987, 1987, 1988,\n",
              "       1988, 1989, 1989, 1989, 1989, 1990, 1991, 1991, 1992, 1992, 1993,\n",
              "       1993, 1994, 1994, 1995, 1999, 1995, 1996, 1997, 1997, 1997, 1998,\n",
              "       1999, 1999, 2000, 2000, 1999, 1999, 1999, 2000, 2001, 2001, 2002,\n",
              "       2004, 2004, 2005, 2006, 2005, 2006, 2007, 2008, 2003, 2003, 2002,\n",
              "       2005, 2005, 2006, 2007, 2003, 2008, 2009, 2011, 2012, 2007, 2007,\n",
              "       2008, 2004, 2007, 2008, 2008, 2007, 2009, 2010, 2012, 2013, 2011,\n",
              "       2010, 2010, 2012, 2012, 2010, 2012, 2014, 2006, 2015, 2013, 2015,\n",
              "       2008, 2010, 2014, 2015, 2015, 2012, 2011, 2010, 2014, 2011, 2012,\n",
              "       2014, 2016, 2017, 2017, 2018, 2012, 2016, 2016, 2015, 2013, 2017,\n",
              "       2014, 2017, 2017, 2017, 2012, 2013, 2014, 2017, 2018, 2016, 2018,\n",
              "       2017, 2018, 2017, 2015, 2017, 2016, 2017, 2016, 2017, 2017, 2015,\n",
              "       2017, 2018, 2017, 2017, 2017, 2018, 2018, 2018])"
            ]
          },
          "metadata": {},
          "execution_count": 15
        }
      ]
    },
    {
      "cell_type": "code",
      "source": [
        "# Transformar en array de 1 columna con varias filas (N x D) Evita errores como “expected 2D array, got 1D array instead”\n",
        "data[:,0].reshape(-1, 1)"
      ],
      "metadata": {
        "colab": {
          "base_uri": "https://localhost:8080/"
        },
        "collapsed": true,
        "id": "aDMRW76sl8Au",
        "outputId": "a123d1e9-ae60-49c9-bc62-7c73edeb18e9"
      },
      "execution_count": 16,
      "outputs": [
        {
          "output_type": "execute_result",
          "data": {
            "text/plain": [
              "array([[1971],\n",
              "       [1972],\n",
              "       [1973],\n",
              "       [1973],\n",
              "       [1974],\n",
              "       [1974],\n",
              "       [1974],\n",
              "       [1975],\n",
              "       [1976],\n",
              "       [1976],\n",
              "       [1976],\n",
              "       [1978],\n",
              "       [1978],\n",
              "       [1979],\n",
              "       [1979],\n",
              "       [1979],\n",
              "       [1981],\n",
              "       [1982],\n",
              "       [1982],\n",
              "       [1983],\n",
              "       [1984],\n",
              "       [1984],\n",
              "       [1985],\n",
              "       [1985],\n",
              "       [1985],\n",
              "       [1986],\n",
              "       [1986],\n",
              "       [1986],\n",
              "       [1987],\n",
              "       [1987],\n",
              "       [1987],\n",
              "       [1987],\n",
              "       [1988],\n",
              "       [1988],\n",
              "       [1989],\n",
              "       [1989],\n",
              "       [1989],\n",
              "       [1989],\n",
              "       [1990],\n",
              "       [1991],\n",
              "       [1991],\n",
              "       [1992],\n",
              "       [1992],\n",
              "       [1993],\n",
              "       [1993],\n",
              "       [1994],\n",
              "       [1994],\n",
              "       [1995],\n",
              "       [1999],\n",
              "       [1995],\n",
              "       [1996],\n",
              "       [1997],\n",
              "       [1997],\n",
              "       [1997],\n",
              "       [1998],\n",
              "       [1999],\n",
              "       [1999],\n",
              "       [2000],\n",
              "       [2000],\n",
              "       [1999],\n",
              "       [1999],\n",
              "       [1999],\n",
              "       [2000],\n",
              "       [2001],\n",
              "       [2001],\n",
              "       [2002],\n",
              "       [2004],\n",
              "       [2004],\n",
              "       [2005],\n",
              "       [2006],\n",
              "       [2005],\n",
              "       [2006],\n",
              "       [2007],\n",
              "       [2008],\n",
              "       [2003],\n",
              "       [2003],\n",
              "       [2002],\n",
              "       [2005],\n",
              "       [2005],\n",
              "       [2006],\n",
              "       [2007],\n",
              "       [2003],\n",
              "       [2008],\n",
              "       [2009],\n",
              "       [2011],\n",
              "       [2012],\n",
              "       [2007],\n",
              "       [2007],\n",
              "       [2008],\n",
              "       [2004],\n",
              "       [2007],\n",
              "       [2008],\n",
              "       [2008],\n",
              "       [2007],\n",
              "       [2009],\n",
              "       [2010],\n",
              "       [2012],\n",
              "       [2013],\n",
              "       [2011],\n",
              "       [2010],\n",
              "       [2010],\n",
              "       [2012],\n",
              "       [2012],\n",
              "       [2010],\n",
              "       [2012],\n",
              "       [2014],\n",
              "       [2006],\n",
              "       [2015],\n",
              "       [2013],\n",
              "       [2015],\n",
              "       [2008],\n",
              "       [2010],\n",
              "       [2014],\n",
              "       [2015],\n",
              "       [2015],\n",
              "       [2012],\n",
              "       [2011],\n",
              "       [2010],\n",
              "       [2014],\n",
              "       [2011],\n",
              "       [2012],\n",
              "       [2014],\n",
              "       [2016],\n",
              "       [2017],\n",
              "       [2017],\n",
              "       [2018],\n",
              "       [2012],\n",
              "       [2016],\n",
              "       [2016],\n",
              "       [2015],\n",
              "       [2013],\n",
              "       [2017],\n",
              "       [2014],\n",
              "       [2017],\n",
              "       [2017],\n",
              "       [2017],\n",
              "       [2012],\n",
              "       [2013],\n",
              "       [2014],\n",
              "       [2017],\n",
              "       [2018],\n",
              "       [2016],\n",
              "       [2018],\n",
              "       [2017],\n",
              "       [2018],\n",
              "       [2017],\n",
              "       [2015],\n",
              "       [2017],\n",
              "       [2016],\n",
              "       [2017],\n",
              "       [2016],\n",
              "       [2017],\n",
              "       [2017],\n",
              "       [2015],\n",
              "       [2017],\n",
              "       [2018],\n",
              "       [2017],\n",
              "       [2017],\n",
              "       [2017],\n",
              "       [2018],\n",
              "       [2018],\n",
              "       [2018]])"
            ]
          },
          "metadata": {},
          "execution_count": 16
        }
      ]
    },
    {
      "cell_type": "code",
      "source": [
        "X = data[:,0].reshape(-1, 1)\n",
        "Y = data[:,1]"
      ],
      "metadata": {
        "id": "l0tU5NhEnFKI"
      },
      "execution_count": 17,
      "outputs": []
    },
    {
      "cell_type": "code",
      "source": [
        "# plot la data\n",
        "plt.scatter(X, Y)\n",
        "plt.show()"
      ],
      "metadata": {
        "colab": {
          "base_uri": "https://localhost:8080/",
          "height": 445
        },
        "id": "yd3aHrf2neub",
        "outputId": "74b271e3-645e-478f-ca9e-802785e0a1e4"
      },
      "execution_count": 18,
      "outputs": [
        {
          "output_type": "display_data",
          "data": {
            "text/plain": [
              "<Figure size 640x480 with 1 Axes>"
            ],
            "image/png": "[encoded data removed]"
          },
          "metadata": {}
        }
      ]
    },
    {
      "cell_type": "code",
      "source": [
        "# Como lo valores son elevados, se aplica un logaritmo para normalizar un poco lo valores y poder tener una\n",
        "Y = np.log(Y)\n",
        "Y"
      ],
      "metadata": {
        "colab": {
          "base_uri": "https://localhost:8080/"
        },
        "id": "utPEx1punm5p",
        "outputId": "0c04b8ce-44ac-48b7-ffd8-456207c6e550"
      },
      "execution_count": 22,
      "outputs": [
        {
          "output_type": "execute_result",
          "data": {
            "text/plain": [
              "array([0.71612492, 0.74160761, 0.72134672, 0.72134672, 0.75071352,\n",
              "       0.75595265, 0.7865469 , 0.74177411, 0.76178052, 0.78960398,\n",
              "       0.77584452, 0.79245912, 0.84574755, 0.82387363, 0.84574755,\n",
              "       0.87937702, 0.8044145 , 0.87135449, 0.90364049, 0.83398023,\n",
              "       0.87651443, 0.9153793 , 0.92730538, 0.83948256, 0.81982275,\n",
              "       0.8967877 , 0.93693653, 0.84716044, 0.93773882, 0.95656817,\n",
              "       0.92707472, 0.94855124, 0.91359282, 0.92427868, 0.95093028,\n",
              "       0.96538253, 0.96991312, 0.93106454, 0.9703631 , 0.97353332,\n",
              "       0.85350219, 0.95093028, 0.96246278, 0.99238913, 0.99491882,\n",
              "       0.94989255, 0.98954436, 0.98954436, 0.89710551, 1.00874089,\n",
              "       1.00289412, 1.02243028, 1.0159308 , 1.01956184, 1.0159308 ,\n",
              "       1.02128304, 1.02904443, 1.03848922, 1.03848922, 1.04401562,\n",
              "       1.03878686, 1.03946412, 1.05265042, 1.08112705, 1.05401859,\n",
              "       1.05795729, 1.07144915, 1.09394614, 1.07894061, 1.08046194,\n",
              "       1.08425769, 1.09225269, 1.09896955, 1.05487721, 1.05770767,\n",
              "       1.07041209, 1.08362931, 1.07851043, 1.08587109, 1.08850864,\n",
              "       1.07894061, 1.09436329, 1.10070951, 1.10456971, 1.11874639,\n",
              "       1.09524401, 1.096407  , 1.0429353 , 1.0844111 , 1.10048851,\n",
              "       1.0944044 , 1.1039385 , 1.10452701, 1.10517578, 1.10736552,\n",
              "       1.10897739, 1.12582531, 1.10897739, 1.11132892, 1.11146424,\n",
              "       1.11186293, 1.11186293, 1.11315528, 1.11427665, 1.11427665,\n",
              "       1.11427665, 1.1172836 , 1.11772941, 1.11866432, 1.11898981,\n",
              "       1.11898981, 1.11977268, 1.11977268, 1.11977268, 1.12587495,\n",
              "       1.12051505, 1.12169484, 1.12189328, 1.12373856, 1.12373856,\n",
              "       1.12457815, 1.12587495, 1.12587495, 1.13419108, 1.13419108,\n",
              "       1.14088424, 1.12636186, 1.1268324 , 1.12728759, 1.13007765,\n",
              "       1.13082595, 1.13116846, 1.13120225, 1.1327633 , 1.1327633 ,\n",
              "       1.1327633 , 1.13335251, 1.13335251, 1.13487814, 1.13620243,\n",
              "       1.13795196, 1.13011422, 1.13795196, 1.13472266, 1.13472266,\n",
              "       1.13815542, 1.13835583, 1.14003547, 1.13855327, 1.14003547,\n",
              "       1.14003547, 1.1427229 , 1.08587109, 1.143145  , 1.1345917 ,\n",
              "       1.143145  , 1.13116846, 1.15114921, 1.15201206, 1.14148843,\n",
              "       1.15475007, 1.14168177])"
            ]
          },
          "metadata": {},
          "execution_count": 22
        }
      ]
    },
    {
      "cell_type": "code",
      "source": [
        "plt.scatter(X, Y)\n",
        "plt.show()"
      ],
      "metadata": {
        "colab": {
          "base_uri": "https://localhost:8080/",
          "height": 430
        },
        "id": "38bN6eXjn3cm",
        "outputId": "ce202658-8a9f-4533-907a-699902d7f09b"
      },
      "execution_count": 23,
      "outputs": [
        {
          "output_type": "display_data",
          "data": {
            "text/plain": [
              "<Figure size 640x480 with 1 Axes>"
            ],
            "image/png": "[encoded data removed]"
          },
          "metadata": {}
        }
      ]
    },
    {
      "cell_type": "code",
      "source": [
        "# Reducir o desplzar los numeros elevados a medidas mas bajas, ya que numeros muy altos pueden alterar o hacer la predicciones mas complicadas\n",
        "X = X - X.mean()"
      ],
      "metadata": {
        "id": "w8exYe79n6-e"
      },
      "execution_count": 27,
      "outputs": []
    },
    {
      "cell_type": "code",
      "source": [
        "plt.scatter(X, Y)\n",
        "plt.show()"
      ],
      "metadata": {
        "colab": {
          "base_uri": "https://localhost:8080/",
          "height": 430
        },
        "id": "EfAlBElx7hcq",
        "outputId": "85726f2c-f915-4ce4-c9e9-2e59671b8dfc"
      },
      "execution_count": 28,
      "outputs": [
        {
          "output_type": "display_data",
          "data": {
            "text/plain": [
              "<Figure size 640x480 with 1 Axes>"
            ],
            "image/png": "[encoded data removed]"
          },
          "metadata": {}
        }
      ]
    },
    {
      "cell_type": "code",
      "source": [
        "model = tf.keras.models.Sequential([\n",
        "    tf.keras.layers.Input(shape=(1,)),\n",
        "    tf.keras.layers.Dense(1),\n",
        "])"
      ],
      "metadata": {
        "id": "Q93VpVqD7hyB"
      },
      "execution_count": 30,
      "outputs": []
    },
    {
      "cell_type": "code",
      "source": [
        "# Si los datos se hubiesen escalado, hubiesemos usado optimizador 'adam'\n",
        "model.compile(\n",
        "    optimizer=tf.keras.optimizers.SGD(0.001,0.9), # LearningRate y Momentum\n",
        "    loss='mse',\n",
        ")"
      ],
      "metadata": {
        "id": "zYqL2SF09JoY"
      },
      "execution_count": 31,
      "outputs": []
    },
    {
      "cell_type": "code",
      "source": [
        "def schedule(epoch, learningRate):\n",
        "  if epoch >= 50:\n",
        "    return 0.0001\n",
        "  return 0.001\n",
        "\n",
        "scheduler = tf.keras.callbacks.LearningRateScheduler(schedule)"
      ],
      "metadata": {
        "id": "CSUD39O4-NZD"
      },
      "execution_count": 32,
      "outputs": []
    },
    {
      "cell_type": "code",
      "source": [
        "r = model.fit(X, Y, epochs=200, callbacks=[scheduler])"
      ],
      "metadata": {
        "colab": {
          "base_uri": "https://localhost:8080/"
        },
        "id": "OhX5w9uS-uKr",
        "outputId": "15f3fa61-d4a9-426e-fe15-496d236f60f5"
      },
      "execution_count": 33,
      "outputs": [
        {
          "output_type": "stream",
          "name": "stdout",
          "text": [
            "Epoch 1/200\n",
            "\u001b[1m6/6\u001b[0m \u001b[32m━━━━━━━━━━━━━━━━━━━━\u001b[0m\u001b[37m\u001b[0m \u001b[1m1s\u001b[0m 7ms/step - loss: 83.5395 - learning_rate: 0.0010\n",
            "Epoch 2/200\n",
            "\u001b[1m6/6\u001b[0m \u001b[32m━━━━━━━━━━━━━━━━━━━━\u001b[0m\u001b[37m\u001b[0m \u001b[1m0s\u001b[0m 6ms/step - loss: 64.5958 - learning_rate: 0.0010\n",
            "Epoch 3/200\n",
            "\u001b[1m6/6\u001b[0m \u001b[32m━━━━━━━━━━━━━━━━━━━━\u001b[0m\u001b[37m\u001b[0m \u001b[1m0s\u001b[0m 6ms/step - loss: 65.6625 - learning_rate: 0.0010\n",
            "Epoch 4/200\n",
            "\u001b[1m6/6\u001b[0m \u001b[32m━━━━━━━━━━━━━━━━━━━━\u001b[0m\u001b[37m\u001b[0m \u001b[1m0s\u001b[0m 6ms/step - loss: 25.3616 - learning_rate: 0.0010\n",
            "Epoch 5/200\n",
            "\u001b[1m6/6\u001b[0m \u001b[32m━━━━━━━━━━━━━━━━━━━━\u001b[0m\u001b[37m\u001b[0m \u001b[1m0s\u001b[0m 6ms/step - loss: 18.1071 - learning_rate: 0.0010\n",
            "Epoch 6/200\n",
            "\u001b[1m6/6\u001b[0m \u001b[32m━━━━━━━━━━━━━━━━━━━━\u001b[0m\u001b[37m\u001b[0m \u001b[1m0s\u001b[0m 6ms/step - loss: 3.7226 - learning_rate: 0.0010\n",
            "Epoch 7/200\n",
            "\u001b[1m6/6\u001b[0m \u001b[32m━━━━━━━━━━━━━━━━━━━━\u001b[0m\u001b[37m\u001b[0m \u001b[1m0s\u001b[0m 6ms/step - loss: 1.7022 - learning_rate: 0.0010\n",
            "Epoch 8/200\n",
            "\u001b[1m6/6\u001b[0m \u001b[32m━━━━━━━━━━━━━━━━━━━━\u001b[0m\u001b[37m\u001b[0m \u001b[1m0s\u001b[0m 6ms/step - loss: 1.3720 - learning_rate: 0.0010\n",
            "Epoch 9/200\n",
            "\u001b[1m6/6\u001b[0m \u001b[32m━━━━━━━━━━━━━━━━━━━━\u001b[0m\u001b[37m\u001b[0m \u001b[1m0s\u001b[0m 6ms/step - loss: 1.3033 - learning_rate: 0.0010\n",
            "Epoch 10/200\n",
            "\u001b[1m6/6\u001b[0m \u001b[32m━━━━━━━━━━━━━━━━━━━━\u001b[0m\u001b[37m\u001b[0m \u001b[1m0s\u001b[0m 6ms/step - loss: 0.4140 - learning_rate: 0.0010\n",
            "Epoch 11/200\n",
            "\u001b[1m6/6\u001b[0m \u001b[32m━━━━━━━━━━━━━━━━━━━━\u001b[0m\u001b[37m\u001b[0m \u001b[1m0s\u001b[0m 6ms/step - loss: 0.1939 - learning_rate: 0.0010\n",
            "Epoch 12/200\n",
            "\u001b[1m6/6\u001b[0m \u001b[32m━━━━━━━━━━━━━━━━━━━━\u001b[0m\u001b[37m\u001b[0m \u001b[1m0s\u001b[0m 6ms/step - loss: 0.1471 - learning_rate: 0.0010\n",
            "Epoch 13/200\n",
            "\u001b[1m6/6\u001b[0m \u001b[32m━━━━━━━━━━━━━━━━━━━━\u001b[0m\u001b[37m\u001b[0m \u001b[1m0s\u001b[0m 6ms/step - loss: 0.0739 - learning_rate: 0.0010\n",
            "Epoch 14/200\n",
            "\u001b[1m6/6\u001b[0m \u001b[32m━━━━━━━━━━━━━━━━━━━━\u001b[0m\u001b[37m\u001b[0m \u001b[1m0s\u001b[0m 6ms/step - loss: 0.0535 - learning_rate: 0.0010\n",
            "Epoch 15/200\n",
            "\u001b[1m6/6\u001b[0m \u001b[32m━━━━━━━━━━━━━━━━━━━━\u001b[0m\u001b[37m\u001b[0m \u001b[1m0s\u001b[0m 6ms/step - loss: 0.0289 - learning_rate: 0.0010\n",
            "Epoch 16/200\n",
            "\u001b[1m6/6\u001b[0m \u001b[32m━━━━━━━━━━━━━━━━━━━━\u001b[0m\u001b[37m\u001b[0m \u001b[1m0s\u001b[0m 6ms/step - loss: 0.0205 - learning_rate: 0.0010\n",
            "Epoch 17/200\n",
            "\u001b[1m6/6\u001b[0m \u001b[32m━━━━━━━━━━━━━━━━━━━━\u001b[0m\u001b[37m\u001b[0m \u001b[1m0s\u001b[0m 6ms/step - loss: 0.0177 - learning_rate: 0.0010\n",
            "Epoch 18/200\n",
            "\u001b[1m6/6\u001b[0m \u001b[32m━━━━━━━━━━━━━━━━━━━━\u001b[0m\u001b[37m\u001b[0m \u001b[1m0s\u001b[0m 7ms/step - loss: 0.0130 - learning_rate: 0.0010\n",
            "Epoch 19/200\n",
            "\u001b[1m6/6\u001b[0m \u001b[32m━━━━━━━━━━━━━━━━━━━━\u001b[0m\u001b[37m\u001b[0m \u001b[1m0s\u001b[0m 6ms/step - loss: 0.0085 - learning_rate: 0.0010\n",
            "Epoch 20/200\n",
            "\u001b[1m6/6\u001b[0m \u001b[32m━━━━━━━━━━━━━━━━━━━━\u001b[0m\u001b[37m\u001b[0m \u001b[1m0s\u001b[0m 6ms/step - loss: 0.0065 - learning_rate: 0.0010\n",
            "Epoch 21/200\n",
            "\u001b[1m6/6\u001b[0m \u001b[32m━━━━━━━━━━━━━━━━━━━━\u001b[0m\u001b[37m\u001b[0m \u001b[1m0s\u001b[0m 6ms/step - loss: 0.0050 - learning_rate: 0.0010\n",
            "Epoch 22/200\n",
            "\u001b[1m6/6\u001b[0m \u001b[32m━━━━━━━━━━━━━━━━━━━━\u001b[0m\u001b[37m\u001b[0m \u001b[1m0s\u001b[0m 6ms/step - loss: 0.0047 - learning_rate: 0.0010\n",
            "Epoch 23/200\n",
            "\u001b[1m6/6\u001b[0m \u001b[32m━━━━━━━━━━━━━━━━━━━━\u001b[0m\u001b[37m\u001b[0m \u001b[1m0s\u001b[0m 6ms/step - loss: 0.0038 - learning_rate: 0.0010\n",
            "Epoch 24/200\n",
            "\u001b[1m6/6\u001b[0m \u001b[32m━━━━━━━━━━━━━━━━━━━━\u001b[0m\u001b[37m\u001b[0m \u001b[1m0s\u001b[0m 6ms/step - loss: 0.0037 - learning_rate: 0.0010\n",
            "Epoch 25/200\n",
            "\u001b[1m6/6\u001b[0m \u001b[32m━━━━━━━━━━━━━━━━━━━━\u001b[0m\u001b[37m\u001b[0m \u001b[1m0s\u001b[0m 6ms/step - loss: 0.0035 - learning_rate: 0.0010\n",
            "Epoch 26/200\n",
            "\u001b[1m6/6\u001b[0m \u001b[32m━━━━━━━━━━━━━━━━━━━━\u001b[0m\u001b[37m\u001b[0m \u001b[1m0s\u001b[0m 6ms/step - loss: 0.0019 - learning_rate: 0.0010\n",
            "Epoch 27/200\n",
            "\u001b[1m6/6\u001b[0m \u001b[32m━━━━━━━━━━━━━━━━━━━━\u001b[0m\u001b[37m\u001b[0m \u001b[1m0s\u001b[0m 7ms/step - loss: 0.0015 - learning_rate: 0.0010\n",
            "Epoch 28/200\n",
            "\u001b[1m6/6\u001b[0m \u001b[32m━━━━━━━━━━━━━━━━━━━━\u001b[0m\u001b[37m\u001b[0m \u001b[1m0s\u001b[0m 7ms/step - loss: 0.0017 - learning_rate: 0.0010\n",
            "Epoch 29/200\n",
            "\u001b[1m6/6\u001b[0m \u001b[32m━━━━━━━━━━━━━━━━━━━━\u001b[0m\u001b[37m\u001b[0m \u001b[1m0s\u001b[0m 6ms/step - loss: 0.0013 - learning_rate: 0.0010\n",
            "Epoch 30/200\n",
            "\u001b[1m6/6\u001b[0m \u001b[32m━━━━━━━━━━━━━━━━━━━━\u001b[0m\u001b[37m\u001b[0m \u001b[1m0s\u001b[0m 6ms/step - loss: 0.0014 - learning_rate: 0.0010\n",
            "Epoch 31/200\n",
            "\u001b[1m6/6\u001b[0m \u001b[32m━━━━━━━━━━━━━━━━━━━━\u001b[0m\u001b[37m\u001b[0m \u001b[1m0s\u001b[0m 6ms/step - loss: 0.0012 - learning_rate: 0.0010\n",
            "Epoch 32/200\n",
            "\u001b[1m6/6\u001b[0m \u001b[32m━━━━━━━━━━━━━━━━━━━━\u001b[0m\u001b[37m\u001b[0m \u001b[1m0s\u001b[0m 6ms/step - loss: 0.0012 - learning_rate: 0.0010\n",
            "Epoch 33/200\n",
            "\u001b[1m6/6\u001b[0m \u001b[32m━━━━━━━━━━━━━━━━━━━━\u001b[0m\u001b[37m\u001b[0m \u001b[1m0s\u001b[0m 7ms/step - loss: 0.0010 - learning_rate: 0.0010\n",
            "Epoch 34/200\n",
            "\u001b[1m6/6\u001b[0m \u001b[32m━━━━━━━━━━━━━━━━━━━━\u001b[0m\u001b[37m\u001b[0m \u001b[1m0s\u001b[0m 6ms/step - loss: 0.0012 - learning_rate: 0.0010\n",
            "Epoch 35/200\n",
            "\u001b[1m6/6\u001b[0m \u001b[32m━━━━━━━━━━━━━━━━━━━━\u001b[0m\u001b[37m\u001b[0m \u001b[1m0s\u001b[0m 6ms/step - loss: 0.0010 - learning_rate: 0.0010\n",
            "Epoch 36/200\n",
            "\u001b[1m6/6\u001b[0m \u001b[32m━━━━━━━━━━━━━━━━━━━━\u001b[0m\u001b[37m\u001b[0m \u001b[1m0s\u001b[0m 6ms/step - loss: 0.0011 - learning_rate: 0.0010\n",
            "Epoch 37/200\n",
            "\u001b[1m6/6\u001b[0m \u001b[32m━━━━━━━━━━━━━━━━━━━━\u001b[0m\u001b[37m\u001b[0m \u001b[1m0s\u001b[0m 6ms/step - loss: 0.0012 - learning_rate: 0.0010\n",
            "Epoch 38/200\n",
            "\u001b[1m6/6\u001b[0m \u001b[32m━━━━━━━━━━━━━━━━━━━━\u001b[0m\u001b[37m\u001b[0m \u001b[1m0s\u001b[0m 6ms/step - loss: 0.0011 - learning_rate: 0.0010\n",
            "Epoch 39/200\n",
            "\u001b[1m6/6\u001b[0m \u001b[32m━━━━━━━━━━━━━━━━━━━━\u001b[0m\u001b[37m\u001b[0m \u001b[1m0s\u001b[0m 6ms/step - loss: 9.9093e-04 - learning_rate: 0.0010\n",
            "Epoch 40/200\n",
            "\u001b[1m6/6\u001b[0m \u001b[32m━━━━━━━━━━━━━━━━━━━━\u001b[0m\u001b[37m\u001b[0m \u001b[1m0s\u001b[0m 6ms/step - loss: 8.8984e-04 - learning_rate: 0.0010\n",
            "Epoch 41/200\n",
            "\u001b[1m6/6\u001b[0m \u001b[32m━━━━━━━━━━━━━━━━━━━━\u001b[0m\u001b[37m\u001b[0m \u001b[1m0s\u001b[0m 6ms/step - loss: 0.0013 - learning_rate: 0.0010\n",
            "Epoch 42/200\n",
            "\u001b[1m6/6\u001b[0m \u001b[32m━━━━━━━━━━━━━━━━━━━━\u001b[0m\u001b[37m\u001b[0m \u001b[1m0s\u001b[0m 6ms/step - loss: 0.0012 - learning_rate: 0.0010\n",
            "Epoch 43/200\n",
            "\u001b[1m6/6\u001b[0m \u001b[32m━━━━━━━━━━━━━━━━━━━━\u001b[0m\u001b[37m\u001b[0m \u001b[1m0s\u001b[0m 7ms/step - loss: 0.0013 - learning_rate: 0.0010\n",
            "Epoch 44/200\n",
            "\u001b[1m6/6\u001b[0m \u001b[32m━━━━━━━━━━━━━━━━━━━━\u001b[0m\u001b[37m\u001b[0m \u001b[1m0s\u001b[0m 6ms/step - loss: 0.0011 - learning_rate: 0.0010\n",
            "Epoch 45/200\n",
            "\u001b[1m6/6\u001b[0m \u001b[32m━━━━━━━━━━━━━━━━━━━━\u001b[0m\u001b[37m\u001b[0m \u001b[1m0s\u001b[0m 6ms/step - loss: 0.0010 - learning_rate: 0.0010\n",
            "Epoch 46/200\n",
            "\u001b[1m6/6\u001b[0m \u001b[32m━━━━━━━━━━━━━━━━━━━━\u001b[0m\u001b[37m\u001b[0m \u001b[1m0s\u001b[0m 6ms/step - loss: 0.0011 - learning_rate: 0.0010\n",
            "Epoch 47/200\n",
            "\u001b[1m6/6\u001b[0m \u001b[32m━━━━━━━━━━━━━━━━━━━━\u001b[0m\u001b[37m\u001b[0m \u001b[1m0s\u001b[0m 6ms/step - loss: 9.4968e-04 - learning_rate: 0.0010\n",
            "Epoch 48/200\n",
            "\u001b[1m6/6\u001b[0m \u001b[32m━━━━━━━━━━━━━━━━━━━━\u001b[0m\u001b[37m\u001b[0m \u001b[1m0s\u001b[0m 6ms/step - loss: 0.0010 - learning_rate: 0.0010\n",
            "Epoch 49/200\n",
            "\u001b[1m6/6\u001b[0m \u001b[32m━━━━━━━━━━━━━━━━━━━━\u001b[0m\u001b[37m\u001b[0m \u001b[1m0s\u001b[0m 6ms/step - loss: 8.6760e-04 - learning_rate: 0.0010\n",
            "Epoch 50/200\n",
            "\u001b[1m6/6\u001b[0m \u001b[32m━━━━━━━━━━━━━━━━━━━━\u001b[0m\u001b[37m\u001b[0m \u001b[1m0s\u001b[0m 6ms/step - loss: 9.9626e-04 - learning_rate: 0.0010\n",
            "Epoch 51/200\n",
            "\u001b[1m6/6\u001b[0m \u001b[32m━━━━━━━━━━━━━━━━━━━━\u001b[0m\u001b[37m\u001b[0m \u001b[1m0s\u001b[0m 9ms/step - loss: 0.0012 - learning_rate: 1.0000e-04\n",
            "Epoch 52/200\n",
            "\u001b[1m6/6\u001b[0m \u001b[32m━━━━━━━━━━━━━━━━━━━━\u001b[0m\u001b[37m\u001b[0m \u001b[1m0s\u001b[0m 8ms/step - loss: 0.0014 - learning_rate: 1.0000e-04\n",
            "Epoch 53/200\n",
            "\u001b[1m6/6\u001b[0m \u001b[32m━━━━━━━━━━━━━━━━━━━━\u001b[0m\u001b[37m\u001b[0m \u001b[1m0s\u001b[0m 8ms/step - loss: 0.0011 - learning_rate: 1.0000e-04\n",
            "Epoch 54/200\n",
            "\u001b[1m6/6\u001b[0m \u001b[32m━━━━━━━━━━━━━━━━━━━━\u001b[0m\u001b[37m\u001b[0m \u001b[1m0s\u001b[0m 8ms/step - loss: 0.0014 - learning_rate: 1.0000e-04\n",
            "Epoch 55/200\n",
            "\u001b[1m6/6\u001b[0m \u001b[32m━━━━━━━━━━━━━━━━━━━━\u001b[0m\u001b[37m\u001b[0m \u001b[1m0s\u001b[0m 8ms/step - loss: 9.8266e-04 - learning_rate: 1.0000e-04\n",
            "Epoch 56/200\n",
            "\u001b[1m6/6\u001b[0m \u001b[32m━━━━━━━━━━━━━━━━━━━━\u001b[0m\u001b[37m\u001b[0m \u001b[1m0s\u001b[0m 9ms/step - loss: 0.0010 - learning_rate: 1.0000e-04\n",
            "Epoch 57/200\n",
            "\u001b[1m6/6\u001b[0m \u001b[32m━━━━━━━━━━━━━━━━━━━━\u001b[0m\u001b[37m\u001b[0m \u001b[1m0s\u001b[0m 9ms/step - loss: 9.9544e-04 - learning_rate: 1.0000e-04\n",
            "Epoch 58/200\n",
            "\u001b[1m6/6\u001b[0m \u001b[32m━━━━━━━━━━━━━━━━━━━━\u001b[0m\u001b[37m\u001b[0m \u001b[1m0s\u001b[0m 9ms/step - loss: 0.0012 - learning_rate: 1.0000e-04\n",
            "Epoch 59/200\n",
            "\u001b[1m6/6\u001b[0m \u001b[32m━━━━━━━━━━━━━━━━━━━━\u001b[0m\u001b[37m\u001b[0m \u001b[1m0s\u001b[0m 8ms/step - loss: 9.6340e-04 - learning_rate: 1.0000e-04\n",
            "Epoch 60/200\n",
            "\u001b[1m6/6\u001b[0m \u001b[32m━━━━━━━━━━━━━━━━━━━━\u001b[0m\u001b[37m\u001b[0m \u001b[1m0s\u001b[0m 8ms/step - loss: 9.0344e-04 - learning_rate: 1.0000e-04\n",
            "Epoch 61/200\n",
            "\u001b[1m6/6\u001b[0m \u001b[32m━━━━━━━━━━━━━━━━━━━━\u001b[0m\u001b[37m\u001b[0m \u001b[1m0s\u001b[0m 8ms/step - loss: 9.9657e-04 - learning_rate: 1.0000e-04\n",
            "Epoch 62/200\n",
            "\u001b[1m6/6\u001b[0m \u001b[32m━━━━━━━━━━━━━━━━━━━━\u001b[0m\u001b[37m\u001b[0m \u001b[1m0s\u001b[0m 9ms/step - loss: 9.2948e-04 - learning_rate: 1.0000e-04\n",
            "Epoch 63/200\n",
            "\u001b[1m6/6\u001b[0m \u001b[32m━━━━━━━━━━━━━━━━━━━━\u001b[0m\u001b[37m\u001b[0m \u001b[1m0s\u001b[0m 12ms/step - loss: 0.0010 - learning_rate: 1.0000e-04\n",
            "Epoch 64/200\n",
            "\u001b[1m6/6\u001b[0m \u001b[32m━━━━━━━━━━━━━━━━━━━━\u001b[0m\u001b[37m\u001b[0m \u001b[1m0s\u001b[0m 9ms/step - loss: 0.0011 - learning_rate: 1.0000e-04\n",
            "Epoch 65/200\n",
            "\u001b[1m6/6\u001b[0m \u001b[32m━━━━━━━━━━━━━━━━━━━━\u001b[0m\u001b[37m\u001b[0m \u001b[1m0s\u001b[0m 8ms/step - loss: 9.1633e-04 - learning_rate: 1.0000e-04\n",
            "Epoch 66/200\n",
            "\u001b[1m6/6\u001b[0m \u001b[32m━━━━━━━━━━━━━━━━━━━━\u001b[0m\u001b[37m\u001b[0m \u001b[1m0s\u001b[0m 9ms/step - loss: 9.4514e-04 - learning_rate: 1.0000e-04\n",
            "Epoch 67/200\n",
            "\u001b[1m6/6\u001b[0m \u001b[32m━━━━━━━━━━━━━━━━━━━━\u001b[0m\u001b[37m\u001b[0m \u001b[1m0s\u001b[0m 6ms/step - loss: 9.4494e-04 - learning_rate: 1.0000e-04\n",
            "Epoch 68/200\n",
            "\u001b[1m6/6\u001b[0m \u001b[32m━━━━━━━━━━━━━━━━━━━━\u001b[0m\u001b[37m\u001b[0m \u001b[1m0s\u001b[0m 6ms/step - loss: 9.2589e-04 - learning_rate: 1.0000e-04\n",
            "Epoch 69/200\n",
            "\u001b[1m6/6\u001b[0m \u001b[32m━━━━━━━━━━━━━━━━━━━━\u001b[0m\u001b[37m\u001b[0m \u001b[1m0s\u001b[0m 6ms/step - loss: 9.3441e-04 - learning_rate: 1.0000e-04\n",
            "Epoch 70/200\n",
            "\u001b[1m6/6\u001b[0m \u001b[32m━━━━━━━━━━━━━━━━━━━━\u001b[0m\u001b[37m\u001b[0m \u001b[1m0s\u001b[0m 6ms/step - loss: 9.7440e-04 - learning_rate: 1.0000e-04\n",
            "Epoch 71/200\n",
            "\u001b[1m6/6\u001b[0m \u001b[32m━━━━━━━━━━━━━━━━━━━━\u001b[0m\u001b[37m\u001b[0m \u001b[1m0s\u001b[0m 6ms/step - loss: 0.0010 - learning_rate: 1.0000e-04\n",
            "Epoch 72/200\n",
            "\u001b[1m6/6\u001b[0m \u001b[32m━━━━━━━━━━━━━━━━━━━━\u001b[0m\u001b[37m\u001b[0m \u001b[1m0s\u001b[0m 6ms/step - loss: 9.3524e-04 - learning_rate: 1.0000e-04\n",
            "Epoch 73/200\n",
            "\u001b[1m6/6\u001b[0m \u001b[32m━━━━━━━━━━━━━━━━━━━━\u001b[0m\u001b[37m\u001b[0m \u001b[1m0s\u001b[0m 6ms/step - loss: 8.9389e-04 - learning_rate: 1.0000e-04\n",
            "Epoch 74/200\n",
            "\u001b[1m6/6\u001b[0m \u001b[32m━━━━━━━━━━━━━━━━━━━━\u001b[0m\u001b[37m\u001b[0m \u001b[1m0s\u001b[0m 8ms/step - loss: 0.0010 - learning_rate: 1.0000e-04\n",
            "Epoch 75/200\n",
            "\u001b[1m6/6\u001b[0m \u001b[32m━━━━━━━━━━━━━━━━━━━━\u001b[0m\u001b[37m\u001b[0m \u001b[1m0s\u001b[0m 9ms/step - loss: 0.0011 - learning_rate: 1.0000e-04\n",
            "Epoch 76/200\n",
            "\u001b[1m6/6\u001b[0m \u001b[32m━━━━━━━━━━━━━━━━━━━━\u001b[0m\u001b[37m\u001b[0m \u001b[1m0s\u001b[0m 6ms/step - loss: 0.0010 - learning_rate: 1.0000e-04\n",
            "Epoch 77/200\n",
            "\u001b[1m6/6\u001b[0m \u001b[32m━━━━━━━━━━━━━━━━━━━━\u001b[0m\u001b[37m\u001b[0m \u001b[1m0s\u001b[0m 6ms/step - loss: 0.0010 - learning_rate: 1.0000e-04\n",
            "Epoch 78/200\n",
            "\u001b[1m6/6\u001b[0m \u001b[32m━━━━━━━━━━━━━━━━━━━━\u001b[0m\u001b[37m\u001b[0m \u001b[1m0s\u001b[0m 6ms/step - loss: 0.0010 - learning_rate: 1.0000e-04\n",
            "Epoch 79/200\n",
            "\u001b[1m6/6\u001b[0m \u001b[32m━━━━━━━━━━━━━━━━━━━━\u001b[0m\u001b[37m\u001b[0m \u001b[1m0s\u001b[0m 6ms/step - loss: 9.6434e-04 - learning_rate: 1.0000e-04\n",
            "Epoch 80/200\n",
            "\u001b[1m6/6\u001b[0m \u001b[32m━━━━━━━━━━━━━━━━━━━━\u001b[0m\u001b[37m\u001b[0m \u001b[1m0s\u001b[0m 6ms/step - loss: 0.0010 - learning_rate: 1.0000e-04\n",
            "Epoch 81/200\n",
            "\u001b[1m6/6\u001b[0m \u001b[32m━━━━━━━━━━━━━━━━━━━━\u001b[0m\u001b[37m\u001b[0m \u001b[1m0s\u001b[0m 6ms/step - loss: 9.7019e-04 - learning_rate: 1.0000e-04\n",
            "Epoch 82/200\n",
            "\u001b[1m6/6\u001b[0m \u001b[32m━━━━━━━━━━━━━━━━━━━━\u001b[0m\u001b[37m\u001b[0m \u001b[1m0s\u001b[0m 7ms/step - loss: 9.4516e-04 - learning_rate: 1.0000e-04\n",
            "Epoch 83/200\n",
            "\u001b[1m6/6\u001b[0m \u001b[32m━━━━━━━━━━━━━━━━━━━━\u001b[0m\u001b[37m\u001b[0m \u001b[1m0s\u001b[0m 6ms/step - loss: 8.1149e-04 - learning_rate: 1.0000e-04\n",
            "Epoch 84/200\n",
            "\u001b[1m6/6\u001b[0m \u001b[32m━━━━━━━━━━━━━━━━━━━━\u001b[0m\u001b[37m\u001b[0m \u001b[1m0s\u001b[0m 6ms/step - loss: 0.0010 - learning_rate: 1.0000e-04\n",
            "Epoch 85/200\n",
            "\u001b[1m6/6\u001b[0m \u001b[32m━━━━━━━━━━━━━━━━━━━━\u001b[0m\u001b[37m\u001b[0m \u001b[1m0s\u001b[0m 6ms/step - loss: 0.0010 - learning_rate: 1.0000e-04\n",
            "Epoch 86/200\n",
            "\u001b[1m6/6\u001b[0m \u001b[32m━━━━━━━━━━━━━━━━━━━━\u001b[0m\u001b[37m\u001b[0m \u001b[1m0s\u001b[0m 6ms/step - loss: 9.3975e-04 - learning_rate: 1.0000e-04\n",
            "Epoch 87/200\n",
            "\u001b[1m6/6\u001b[0m \u001b[32m━━━━━━━━━━━━━━━━━━━━\u001b[0m\u001b[37m\u001b[0m \u001b[1m0s\u001b[0m 6ms/step - loss: 0.0010 - learning_rate: 1.0000e-04\n",
            "Epoch 88/200\n",
            "\u001b[1m6/6\u001b[0m \u001b[32m━━━━━━━━━━━━━━━━━━━━\u001b[0m\u001b[37m\u001b[0m \u001b[1m0s\u001b[0m 6ms/step - loss: 8.2076e-04 - learning_rate: 1.0000e-04\n",
            "Epoch 89/200\n",
            "\u001b[1m6/6\u001b[0m \u001b[32m━━━━━━━━━━━━━━━━━━━━\u001b[0m\u001b[37m\u001b[0m \u001b[1m0s\u001b[0m 6ms/step - loss: 9.2681e-04 - learning_rate: 1.0000e-04\n",
            "Epoch 90/200\n",
            "\u001b[1m6/6\u001b[0m \u001b[32m━━━━━━━━━━━━━━━━━━━━\u001b[0m\u001b[37m\u001b[0m \u001b[1m0s\u001b[0m 6ms/step - loss: 0.0011 - learning_rate: 1.0000e-04\n",
            "Epoch 91/200\n",
            "\u001b[1m6/6\u001b[0m \u001b[32m━━━━━━━━━━━━━━━━━━━━\u001b[0m\u001b[37m\u001b[0m \u001b[1m0s\u001b[0m 9ms/step - loss: 9.2688e-04 - learning_rate: 1.0000e-04\n",
            "Epoch 92/200\n",
            "\u001b[1m6/6\u001b[0m \u001b[32m━━━━━━━━━━━━━━━━━━━━\u001b[0m\u001b[37m\u001b[0m \u001b[1m0s\u001b[0m 6ms/step - loss: 0.0011 - learning_rate: 1.0000e-04\n",
            "Epoch 93/200\n",
            "\u001b[1m6/6\u001b[0m \u001b[32m━━━━━━━━━━━━━━━━━━━━\u001b[0m\u001b[37m\u001b[0m \u001b[1m0s\u001b[0m 6ms/step - loss: 0.0010 - learning_rate: 1.0000e-04\n",
            "Epoch 94/200\n",
            "\u001b[1m6/6\u001b[0m \u001b[32m━━━━━━━━━━━━━━━━━━━━\u001b[0m\u001b[37m\u001b[0m \u001b[1m0s\u001b[0m 6ms/step - loss: 9.3925e-04 - learning_rate: 1.0000e-04\n",
            "Epoch 95/200\n",
            "\u001b[1m6/6\u001b[0m \u001b[32m━━━━━━━━━━━━━━━━━━━━\u001b[0m\u001b[37m\u001b[0m \u001b[1m0s\u001b[0m 6ms/step - loss: 9.1160e-04 - learning_rate: 1.0000e-04\n",
            "Epoch 96/200\n",
            "\u001b[1m6/6\u001b[0m \u001b[32m━━━━━━━━━━━━━━━━━━━━\u001b[0m\u001b[37m\u001b[0m \u001b[1m0s\u001b[0m 6ms/step - loss: 0.0010 - learning_rate: 1.0000e-04\n",
            "Epoch 97/200\n",
            "\u001b[1m6/6\u001b[0m \u001b[32m━━━━━━━━━━━━━━━━━━━━\u001b[0m\u001b[37m\u001b[0m \u001b[1m0s\u001b[0m 6ms/step - loss: 0.0010 - learning_rate: 1.0000e-04\n",
            "Epoch 98/200\n",
            "\u001b[1m6/6\u001b[0m \u001b[32m━━━━━━━━━━━━━━━━━━━━\u001b[0m\u001b[37m\u001b[0m \u001b[1m0s\u001b[0m 6ms/step - loss: 9.5310e-04 - learning_rate: 1.0000e-04\n",
            "Epoch 99/200\n",
            "\u001b[1m6/6\u001b[0m \u001b[32m━━━━━━━━━━━━━━━━━━━━\u001b[0m\u001b[37m\u001b[0m \u001b[1m0s\u001b[0m 6ms/step - loss: 8.7409e-04 - learning_rate: 1.0000e-04\n",
            "Epoch 100/200\n",
            "\u001b[1m6/6\u001b[0m \u001b[32m━━━━━━━━━━━━━━━━━━━━\u001b[0m\u001b[37m\u001b[0m \u001b[1m0s\u001b[0m 6ms/step - loss: 9.5208e-04 - learning_rate: 1.0000e-04\n",
            "Epoch 101/200\n",
            "\u001b[1m6/6\u001b[0m \u001b[32m━━━━━━━━━━━━━━━━━━━━\u001b[0m\u001b[37m\u001b[0m \u001b[1m0s\u001b[0m 6ms/step - loss: 0.0010 - learning_rate: 1.0000e-04\n",
            "Epoch 102/200\n",
            "\u001b[1m6/6\u001b[0m \u001b[32m━━━━━━━━━━━━━━━━━━━━\u001b[0m\u001b[37m\u001b[0m \u001b[1m0s\u001b[0m 6ms/step - loss: 9.5880e-04 - learning_rate: 1.0000e-04\n",
            "Epoch 103/200\n",
            "\u001b[1m6/6\u001b[0m \u001b[32m━━━━━━━━━━━━━━━━━━━━\u001b[0m\u001b[37m\u001b[0m \u001b[1m0s\u001b[0m 6ms/step - loss: 9.6533e-04 - learning_rate: 1.0000e-04\n",
            "Epoch 104/200\n",
            "\u001b[1m6/6\u001b[0m \u001b[32m━━━━━━━━━━━━━━━━━━━━\u001b[0m\u001b[37m\u001b[0m \u001b[1m0s\u001b[0m 7ms/step - loss: 8.7827e-04 - learning_rate: 1.0000e-04\n",
            "Epoch 105/200\n",
            "\u001b[1m6/6\u001b[0m \u001b[32m━━━━━━━━━━━━━━━━━━━━\u001b[0m\u001b[37m\u001b[0m \u001b[1m0s\u001b[0m 6ms/step - loss: 0.0010 - learning_rate: 1.0000e-04\n",
            "Epoch 106/200\n",
            "\u001b[1m6/6\u001b[0m \u001b[32m━━━━━━━━━━━━━━━━━━━━\u001b[0m\u001b[37m\u001b[0m \u001b[1m0s\u001b[0m 10ms/step - loss: 9.9278e-04 - learning_rate: 1.0000e-04\n",
            "Epoch 107/200\n",
            "\u001b[1m6/6\u001b[0m \u001b[32m━━━━━━━━━━━━━━━━━━━━\u001b[0m\u001b[37m\u001b[0m \u001b[1m0s\u001b[0m 6ms/step - loss: 9.5134e-04 - learning_rate: 1.0000e-04\n",
            "Epoch 108/200\n",
            "\u001b[1m6/6\u001b[0m \u001b[32m━━━━━━━━━━━━━━━━━━━━\u001b[0m\u001b[37m\u001b[0m \u001b[1m0s\u001b[0m 6ms/step - loss: 9.6883e-04 - learning_rate: 1.0000e-04\n",
            "Epoch 109/200\n",
            "\u001b[1m6/6\u001b[0m \u001b[32m━━━━━━━━━━━━━━━━━━━━\u001b[0m\u001b[37m\u001b[0m \u001b[1m0s\u001b[0m 6ms/step - loss: 0.0010 - learning_rate: 1.0000e-04\n",
            "Epoch 110/200\n",
            "\u001b[1m6/6\u001b[0m \u001b[32m━━━━━━━━━━━━━━━━━━━━\u001b[0m\u001b[37m\u001b[0m \u001b[1m0s\u001b[0m 6ms/step - loss: 0.0011 - learning_rate: 1.0000e-04\n",
            "Epoch 111/200\n",
            "\u001b[1m6/6\u001b[0m \u001b[32m━━━━━━━━━━━━━━━━━━━━\u001b[0m\u001b[37m\u001b[0m \u001b[1m0s\u001b[0m 6ms/step - loss: 9.2866e-04 - learning_rate: 1.0000e-04\n",
            "Epoch 112/200\n",
            "\u001b[1m6/6\u001b[0m \u001b[32m━━━━━━━━━━━━━━━━━━━━\u001b[0m\u001b[37m\u001b[0m \u001b[1m0s\u001b[0m 6ms/step - loss: 9.8008e-04 - learning_rate: 1.0000e-04\n",
            "Epoch 113/200\n",
            "\u001b[1m6/6\u001b[0m \u001b[32m━━━━━━━━━━━━━━━━━━━━\u001b[0m\u001b[37m\u001b[0m \u001b[1m0s\u001b[0m 6ms/step - loss: 9.5092e-04 - learning_rate: 1.0000e-04\n",
            "Epoch 114/200\n",
            "\u001b[1m6/6\u001b[0m \u001b[32m━━━━━━━━━━━━━━━━━━━━\u001b[0m\u001b[37m\u001b[0m \u001b[1m0s\u001b[0m 6ms/step - loss: 9.8420e-04 - learning_rate: 1.0000e-04\n",
            "Epoch 115/200\n",
            "\u001b[1m6/6\u001b[0m \u001b[32m━━━━━━━━━━━━━━━━━━━━\u001b[0m\u001b[37m\u001b[0m \u001b[1m0s\u001b[0m 6ms/step - loss: 9.9319e-04 - learning_rate: 1.0000e-04\n",
            "Epoch 116/200\n",
            "\u001b[1m6/6\u001b[0m \u001b[32m━━━━━━━━━━━━━━━━━━━━\u001b[0m\u001b[37m\u001b[0m \u001b[1m0s\u001b[0m 6ms/step - loss: 9.9732e-04 - learning_rate: 1.0000e-04\n",
            "Epoch 117/200\n",
            "\u001b[1m6/6\u001b[0m \u001b[32m━━━━━━━━━━━━━━━━━━━━\u001b[0m\u001b[37m\u001b[0m \u001b[1m0s\u001b[0m 6ms/step - loss: 0.0010 - learning_rate: 1.0000e-04\n",
            "Epoch 118/200\n",
            "\u001b[1m6/6\u001b[0m \u001b[32m━━━━━━━━━━━━━━━━━━━━\u001b[0m\u001b[37m\u001b[0m \u001b[1m0s\u001b[0m 6ms/step - loss: 9.6061e-04 - learning_rate: 1.0000e-04\n",
            "Epoch 119/200\n",
            "\u001b[1m6/6\u001b[0m \u001b[32m━━━━━━━━━━━━━━━━━━━━\u001b[0m\u001b[37m\u001b[0m \u001b[1m0s\u001b[0m 6ms/step - loss: 9.8506e-04 - learning_rate: 1.0000e-04\n",
            "Epoch 120/200\n",
            "\u001b[1m6/6\u001b[0m \u001b[32m━━━━━━━━━━━━━━━━━━━━\u001b[0m\u001b[37m\u001b[0m \u001b[1m0s\u001b[0m 6ms/step - loss: 9.9955e-04 - learning_rate: 1.0000e-04\n",
            "Epoch 121/200\n",
            "\u001b[1m6/6\u001b[0m \u001b[32m━━━━━━━━━━━━━━━━━━━━\u001b[0m\u001b[37m\u001b[0m \u001b[1m0s\u001b[0m 8ms/step - loss: 9.5755e-04 - learning_rate: 1.0000e-04\n",
            "Epoch 122/200\n",
            "\u001b[1m6/6\u001b[0m \u001b[32m━━━━━━━━━━━━━━━━━━━━\u001b[0m\u001b[37m\u001b[0m \u001b[1m0s\u001b[0m 6ms/step - loss: 0.0011 - learning_rate: 1.0000e-04\n",
            "Epoch 123/200\n",
            "\u001b[1m6/6\u001b[0m \u001b[32m━━━━━━━━━━━━━━━━━━━━\u001b[0m\u001b[37m\u001b[0m \u001b[1m0s\u001b[0m 6ms/step - loss: 0.0010 - learning_rate: 1.0000e-04\n",
            "Epoch 124/200\n",
            "\u001b[1m6/6\u001b[0m \u001b[32m━━━━━━━━━━━━━━━━━━━━\u001b[0m\u001b[37m\u001b[0m \u001b[1m0s\u001b[0m 6ms/step - loss: 0.0010 - learning_rate: 1.0000e-04\n",
            "Epoch 125/200\n",
            "\u001b[1m6/6\u001b[0m \u001b[32m━━━━━━━━━━━━━━━━━━━━\u001b[0m\u001b[37m\u001b[0m \u001b[1m0s\u001b[0m 6ms/step - loss: 9.8801e-04 - learning_rate: 1.0000e-04\n",
            "Epoch 126/200\n",
            "\u001b[1m6/6\u001b[0m \u001b[32m━━━━━━━━━━━━━━━━━━━━\u001b[0m\u001b[37m\u001b[0m \u001b[1m0s\u001b[0m 6ms/step - loss: 9.4315e-04 - learning_rate: 1.0000e-04\n",
            "Epoch 127/200\n",
            "\u001b[1m6/6\u001b[0m \u001b[32m━━━━━━━━━━━━━━━━━━━━\u001b[0m\u001b[37m\u001b[0m \u001b[1m0s\u001b[0m 6ms/step - loss: 0.0010 - learning_rate: 1.0000e-04\n",
            "Epoch 128/200\n",
            "\u001b[1m6/6\u001b[0m \u001b[32m━━━━━━━━━━━━━━━━━━━━\u001b[0m\u001b[37m\u001b[0m \u001b[1m0s\u001b[0m 6ms/step - loss: 9.0870e-04 - learning_rate: 1.0000e-04\n",
            "Epoch 129/200\n",
            "\u001b[1m6/6\u001b[0m \u001b[32m━━━━━━━━━━━━━━━━━━━━\u001b[0m\u001b[37m\u001b[0m \u001b[1m0s\u001b[0m 6ms/step - loss: 9.2446e-04 - learning_rate: 1.0000e-04\n",
            "Epoch 130/200\n",
            "\u001b[1m6/6\u001b[0m \u001b[32m━━━━━━━━━━━━━━━━━━━━\u001b[0m\u001b[37m\u001b[0m \u001b[1m0s\u001b[0m 6ms/step - loss: 9.6333e-04 - learning_rate: 1.0000e-04\n",
            "Epoch 131/200\n",
            "\u001b[1m6/6\u001b[0m \u001b[32m━━━━━━━━━━━━━━━━━━━━\u001b[0m\u001b[37m\u001b[0m \u001b[1m0s\u001b[0m 6ms/step - loss: 9.6296e-04 - learning_rate: 1.0000e-04\n",
            "Epoch 132/200\n",
            "\u001b[1m6/6\u001b[0m \u001b[32m━━━━━━━━━━━━━━━━━━━━\u001b[0m\u001b[37m\u001b[0m \u001b[1m0s\u001b[0m 6ms/step - loss: 9.6729e-04 - learning_rate: 1.0000e-04\n",
            "Epoch 133/200\n",
            "\u001b[1m6/6\u001b[0m \u001b[32m━━━━━━━━━━━━━━━━━━━━\u001b[0m\u001b[37m\u001b[0m \u001b[1m0s\u001b[0m 6ms/step - loss: 0.0010 - learning_rate: 1.0000e-04\n",
            "Epoch 134/200\n",
            "\u001b[1m6/6\u001b[0m \u001b[32m━━━━━━━━━━━━━━━━━━━━\u001b[0m\u001b[37m\u001b[0m \u001b[1m0s\u001b[0m 7ms/step - loss: 9.2660e-04 - learning_rate: 1.0000e-04\n",
            "Epoch 135/200\n",
            "\u001b[1m6/6\u001b[0m \u001b[32m━━━━━━━━━━━━━━━━━━━━\u001b[0m\u001b[37m\u001b[0m \u001b[1m0s\u001b[0m 6ms/step - loss: 9.7921e-04 - learning_rate: 1.0000e-04\n",
            "Epoch 136/200\n",
            "\u001b[1m6/6\u001b[0m \u001b[32m━━━━━━━━━━━━━━━━━━━━\u001b[0m\u001b[37m\u001b[0m \u001b[1m0s\u001b[0m 6ms/step - loss: 0.0010 - learning_rate: 1.0000e-04\n",
            "Epoch 137/200\n",
            "\u001b[1m6/6\u001b[0m \u001b[32m━━━━━━━━━━━━━━━━━━━━\u001b[0m\u001b[37m\u001b[0m \u001b[1m0s\u001b[0m 6ms/step - loss: 0.0010 - learning_rate: 1.0000e-04\n",
            "Epoch 138/200\n",
            "\u001b[1m6/6\u001b[0m \u001b[32m━━━━━━━━━━━━━━━━━━━━\u001b[0m\u001b[37m\u001b[0m \u001b[1m0s\u001b[0m 6ms/step - loss: 9.3561e-04 - learning_rate: 1.0000e-04\n",
            "Epoch 139/200\n",
            "\u001b[1m6/6\u001b[0m \u001b[32m━━━━━━━━━━━━━━━━━━━━\u001b[0m\u001b[37m\u001b[0m \u001b[1m0s\u001b[0m 7ms/step - loss: 8.4482e-04 - learning_rate: 1.0000e-04\n",
            "Epoch 140/200\n",
            "\u001b[1m6/6\u001b[0m \u001b[32m━━━━━━━━━━━━━━━━━━━━\u001b[0m\u001b[37m\u001b[0m \u001b[1m0s\u001b[0m 6ms/step - loss: 0.0011 - learning_rate: 1.0000e-04\n",
            "Epoch 141/200\n",
            "\u001b[1m6/6\u001b[0m \u001b[32m━━━━━━━━━━━━━━━━━━━━\u001b[0m\u001b[37m\u001b[0m \u001b[1m0s\u001b[0m 7ms/step - loss: 9.6716e-04 - learning_rate: 1.0000e-04\n",
            "Epoch 142/200\n",
            "\u001b[1m6/6\u001b[0m \u001b[32m━━━━━━━━━━━━━━━━━━━━\u001b[0m\u001b[37m\u001b[0m \u001b[1m0s\u001b[0m 6ms/step - loss: 0.0010 - learning_rate: 1.0000e-04\n",
            "Epoch 143/200\n",
            "\u001b[1m6/6\u001b[0m \u001b[32m━━━━━━━━━━━━━━━━━━━━\u001b[0m\u001b[37m\u001b[0m \u001b[1m0s\u001b[0m 6ms/step - loss: 0.0010 - learning_rate: 1.0000e-04\n",
            "Epoch 144/200\n",
            "\u001b[1m6/6\u001b[0m \u001b[32m━━━━━━━━━━━━━━━━━━━━\u001b[0m\u001b[37m\u001b[0m \u001b[1m0s\u001b[0m 6ms/step - loss: 9.4286e-04 - learning_rate: 1.0000e-04\n",
            "Epoch 145/200\n",
            "\u001b[1m6/6\u001b[0m \u001b[32m━━━━━━━━━━━━━━━━━━━━\u001b[0m\u001b[37m\u001b[0m \u001b[1m0s\u001b[0m 6ms/step - loss: 0.0011 - learning_rate: 1.0000e-04\n",
            "Epoch 146/200\n",
            "\u001b[1m6/6\u001b[0m \u001b[32m━━━━━━━━━━━━━━━━━━━━\u001b[0m\u001b[37m\u001b[0m \u001b[1m0s\u001b[0m 6ms/step - loss: 8.9537e-04 - learning_rate: 1.0000e-04\n",
            "Epoch 147/200\n",
            "\u001b[1m6/6\u001b[0m \u001b[32m━━━━━━━━━━━━━━━━━━━━\u001b[0m\u001b[37m\u001b[0m \u001b[1m0s\u001b[0m 6ms/step - loss: 9.5247e-04 - learning_rate: 1.0000e-04\n",
            "Epoch 148/200\n",
            "\u001b[1m6/6\u001b[0m \u001b[32m━━━━━━━━━━━━━━━━━━━━\u001b[0m\u001b[37m\u001b[0m \u001b[1m0s\u001b[0m 6ms/step - loss: 0.0010 - learning_rate: 1.0000e-04\n",
            "Epoch 149/200\n",
            "\u001b[1m6/6\u001b[0m \u001b[32m━━━━━━━━━━━━━━━━━━━━\u001b[0m\u001b[37m\u001b[0m \u001b[1m0s\u001b[0m 6ms/step - loss: 9.1672e-04 - learning_rate: 1.0000e-04\n",
            "Epoch 150/200\n",
            "\u001b[1m6/6\u001b[0m \u001b[32m━━━━━━━━━━━━━━━━━━━━\u001b[0m\u001b[37m\u001b[0m \u001b[1m0s\u001b[0m 7ms/step - loss: 8.5009e-04 - learning_rate: 1.0000e-04\n",
            "Epoch 151/200\n",
            "\u001b[1m6/6\u001b[0m \u001b[32m━━━━━━━━━━━━━━━━━━━━\u001b[0m\u001b[37m\u001b[0m \u001b[1m0s\u001b[0m 6ms/step - loss: 9.5152e-04 - learning_rate: 1.0000e-04\n",
            "Epoch 152/200\n",
            "\u001b[1m6/6\u001b[0m \u001b[32m━━━━━━━━━━━━━━━━━━━━\u001b[0m\u001b[37m\u001b[0m \u001b[1m0s\u001b[0m 6ms/step - loss: 9.8384e-04 - learning_rate: 1.0000e-04\n",
            "Epoch 153/200\n",
            "\u001b[1m6/6\u001b[0m \u001b[32m━━━━━━━━━━━━━━━━━━━━\u001b[0m\u001b[37m\u001b[0m \u001b[1m0s\u001b[0m 6ms/step - loss: 8.9474e-04 - learning_rate: 1.0000e-04\n",
            "Epoch 154/200\n",
            "\u001b[1m6/6\u001b[0m \u001b[32m━━━━━━━━━━━━━━━━━━━━\u001b[0m\u001b[37m\u001b[0m \u001b[1m0s\u001b[0m 6ms/step - loss: 9.5698e-04 - learning_rate: 1.0000e-04\n",
            "Epoch 155/200\n",
            "\u001b[1m6/6\u001b[0m \u001b[32m━━━━━━━━━━━━━━━━━━━━\u001b[0m\u001b[37m\u001b[0m \u001b[1m0s\u001b[0m 6ms/step - loss: 0.0010 - learning_rate: 1.0000e-04\n",
            "Epoch 156/200\n",
            "\u001b[1m6/6\u001b[0m \u001b[32m━━━━━━━━━━━━━━━━━━━━\u001b[0m\u001b[37m\u001b[0m \u001b[1m0s\u001b[0m 7ms/step - loss: 0.0010 - learning_rate: 1.0000e-04\n",
            "Epoch 157/200\n",
            "\u001b[1m6/6\u001b[0m \u001b[32m━━━━━━━━━━━━━━━━━━━━\u001b[0m\u001b[37m\u001b[0m \u001b[1m0s\u001b[0m 6ms/step - loss: 9.4428e-04 - learning_rate: 1.0000e-04\n",
            "Epoch 158/200\n",
            "\u001b[1m6/6\u001b[0m \u001b[32m━━━━━━━━━━━━━━━━━━━━\u001b[0m\u001b[37m\u001b[0m \u001b[1m0s\u001b[0m 7ms/step - loss: 0.0010 - learning_rate: 1.0000e-04\n",
            "Epoch 159/200\n",
            "\u001b[1m6/6\u001b[0m \u001b[32m━━━━━━━━━━━━━━━━━━━━\u001b[0m\u001b[37m\u001b[0m \u001b[1m0s\u001b[0m 7ms/step - loss: 8.6858e-04 - learning_rate: 1.0000e-04\n",
            "Epoch 160/200\n",
            "\u001b[1m6/6\u001b[0m \u001b[32m━━━━━━━━━━━━━━━━━━━━\u001b[0m\u001b[37m\u001b[0m \u001b[1m0s\u001b[0m 7ms/step - loss: 0.0010 - learning_rate: 1.0000e-04\n",
            "Epoch 161/200\n",
            "\u001b[1m6/6\u001b[0m \u001b[32m━━━━━━━━━━━━━━━━━━━━\u001b[0m\u001b[37m\u001b[0m \u001b[1m0s\u001b[0m 6ms/step - loss: 9.9461e-04 - learning_rate: 1.0000e-04\n",
            "Epoch 162/200\n",
            "\u001b[1m6/6\u001b[0m \u001b[32m━━━━━━━━━━━━━━━━━━━━\u001b[0m\u001b[37m\u001b[0m \u001b[1m0s\u001b[0m 6ms/step - loss: 9.8383e-04 - learning_rate: 1.0000e-04\n",
            "Epoch 163/200\n",
            "\u001b[1m6/6\u001b[0m \u001b[32m━━━━━━━━━━━━━━━━━━━━\u001b[0m\u001b[37m\u001b[0m \u001b[1m0s\u001b[0m 6ms/step - loss: 0.0011 - learning_rate: 1.0000e-04\n",
            "Epoch 164/200\n",
            "\u001b[1m6/6\u001b[0m \u001b[32m━━━━━━━━━━━━━━━━━━━━\u001b[0m\u001b[37m\u001b[0m \u001b[1m0s\u001b[0m 6ms/step - loss: 0.0011 - learning_rate: 1.0000e-04\n",
            "Epoch 165/200\n",
            "\u001b[1m6/6\u001b[0m \u001b[32m━━━━━━━━━━━━━━━━━━━━\u001b[0m\u001b[37m\u001b[0m \u001b[1m0s\u001b[0m 6ms/step - loss: 0.0010 - learning_rate: 1.0000e-04\n",
            "Epoch 166/200\n",
            "\u001b[1m6/6\u001b[0m \u001b[32m━━━━━━━━━━━━━━━━━━━━\u001b[0m\u001b[37m\u001b[0m \u001b[1m0s\u001b[0m 9ms/step - loss: 9.2568e-04 - learning_rate: 1.0000e-04\n",
            "Epoch 167/200\n",
            "\u001b[1m6/6\u001b[0m \u001b[32m━━━━━━━━━━━━━━━━━━━━\u001b[0m\u001b[37m\u001b[0m \u001b[1m0s\u001b[0m 6ms/step - loss: 9.0973e-04 - learning_rate: 1.0000e-04\n",
            "Epoch 168/200\n",
            "\u001b[1m6/6\u001b[0m \u001b[32m━━━━━━━━━━━━━━━━━━━━\u001b[0m\u001b[37m\u001b[0m \u001b[1m0s\u001b[0m 6ms/step - loss: 0.0011 - learning_rate: 1.0000e-04\n",
            "Epoch 169/200\n",
            "\u001b[1m6/6\u001b[0m \u001b[32m━━━━━━━━━━━━━━━━━━━━\u001b[0m\u001b[37m\u001b[0m \u001b[1m0s\u001b[0m 6ms/step - loss: 9.1469e-04 - learning_rate: 1.0000e-04\n",
            "Epoch 170/200\n",
            "\u001b[1m6/6\u001b[0m \u001b[32m━━━━━━━━━━━━━━━━━━━━\u001b[0m\u001b[37m\u001b[0m \u001b[1m0s\u001b[0m 6ms/step - loss: 9.2201e-04 - learning_rate: 1.0000e-04\n",
            "Epoch 171/200\n",
            "\u001b[1m6/6\u001b[0m \u001b[32m━━━━━━━━━━━━━━━━━━━━\u001b[0m\u001b[37m\u001b[0m \u001b[1m0s\u001b[0m 6ms/step - loss: 8.5587e-04 - learning_rate: 1.0000e-04\n",
            "Epoch 172/200\n",
            "\u001b[1m6/6\u001b[0m \u001b[32m━━━━━━━━━━━━━━━━━━━━\u001b[0m\u001b[37m\u001b[0m \u001b[1m0s\u001b[0m 7ms/step - loss: 8.6415e-04 - learning_rate: 1.0000e-04\n",
            "Epoch 173/200\n",
            "\u001b[1m6/6\u001b[0m \u001b[32m━━━━━━━━━━━━━━━━━━━━\u001b[0m\u001b[37m\u001b[0m \u001b[1m0s\u001b[0m 6ms/step - loss: 9.4177e-04 - learning_rate: 1.0000e-04\n",
            "Epoch 174/200\n",
            "\u001b[1m6/6\u001b[0m \u001b[32m━━━━━━━━━━━━━━━━━━━━\u001b[0m\u001b[37m\u001b[0m \u001b[1m0s\u001b[0m 6ms/step - loss: 9.1762e-04 - learning_rate: 1.0000e-04\n",
            "Epoch 175/200\n",
            "\u001b[1m6/6\u001b[0m \u001b[32m━━━━━━━━━━━━━━━━━━━━\u001b[0m\u001b[37m\u001b[0m \u001b[1m0s\u001b[0m 6ms/step - loss: 9.1286e-04 - learning_rate: 1.0000e-04\n",
            "Epoch 176/200\n",
            "\u001b[1m6/6\u001b[0m \u001b[32m━━━━━━━━━━━━━━━━━━━━\u001b[0m\u001b[37m\u001b[0m \u001b[1m0s\u001b[0m 8ms/step - loss: 9.5579e-04 - learning_rate: 1.0000e-04\n",
            "Epoch 177/200\n",
            "\u001b[1m6/6\u001b[0m \u001b[32m━━━━━━━━━━━━━━━━━━━━\u001b[0m\u001b[37m\u001b[0m \u001b[1m0s\u001b[0m 6ms/step - loss: 0.0011 - learning_rate: 1.0000e-04\n",
            "Epoch 178/200\n",
            "\u001b[1m6/6\u001b[0m \u001b[32m━━━━━━━━━━━━━━━━━━━━\u001b[0m\u001b[37m\u001b[0m \u001b[1m0s\u001b[0m 6ms/step - loss: 0.0011 - learning_rate: 1.0000e-04\n",
            "Epoch 179/200\n",
            "\u001b[1m6/6\u001b[0m \u001b[32m━━━━━━━━━━━━━━━━━━━━\u001b[0m\u001b[37m\u001b[0m \u001b[1m0s\u001b[0m 6ms/step - loss: 9.0406e-04 - learning_rate: 1.0000e-04\n",
            "Epoch 180/200\n",
            "\u001b[1m6/6\u001b[0m \u001b[32m━━━━━━━━━━━━━━━━━━━━\u001b[0m\u001b[37m\u001b[0m \u001b[1m0s\u001b[0m 6ms/step - loss: 0.0011 - learning_rate: 1.0000e-04\n",
            "Epoch 181/200\n",
            "\u001b[1m6/6\u001b[0m \u001b[32m━━━━━━━━━━━━━━━━━━━━\u001b[0m\u001b[37m\u001b[0m \u001b[1m0s\u001b[0m 6ms/step - loss: 9.9359e-04 - learning_rate: 1.0000e-04\n",
            "Epoch 182/200\n",
            "\u001b[1m6/6\u001b[0m \u001b[32m━━━━━━━━━━━━━━━━━━━━\u001b[0m\u001b[37m\u001b[0m \u001b[1m0s\u001b[0m 7ms/step - loss: 9.1289e-04 - learning_rate: 1.0000e-04\n",
            "Epoch 183/200\n",
            "\u001b[1m6/6\u001b[0m \u001b[32m━━━━━━━━━━━━━━━━━━━━\u001b[0m\u001b[37m\u001b[0m \u001b[1m0s\u001b[0m 6ms/step - loss: 9.1997e-04 - learning_rate: 1.0000e-04\n",
            "Epoch 184/200\n",
            "\u001b[1m6/6\u001b[0m \u001b[32m━━━━━━━━━━━━━━━━━━━━\u001b[0m\u001b[37m\u001b[0m \u001b[1m0s\u001b[0m 6ms/step - loss: 0.0010 - learning_rate: 1.0000e-04\n",
            "Epoch 185/200\n",
            "\u001b[1m6/6\u001b[0m \u001b[32m━━━━━━━━━━━━━━━━━━━━\u001b[0m\u001b[37m\u001b[0m \u001b[1m0s\u001b[0m 6ms/step - loss: 0.0011 - learning_rate: 1.0000e-04\n",
            "Epoch 186/200\n",
            "\u001b[1m6/6\u001b[0m \u001b[32m━━━━━━━━━━━━━━━━━━━━\u001b[0m\u001b[37m\u001b[0m \u001b[1m0s\u001b[0m 6ms/step - loss: 9.4970e-04 - learning_rate: 1.0000e-04\n",
            "Epoch 187/200\n",
            "\u001b[1m6/6\u001b[0m \u001b[32m━━━━━━━━━━━━━━━━━━━━\u001b[0m\u001b[37m\u001b[0m \u001b[1m0s\u001b[0m 6ms/step - loss: 8.6899e-04 - learning_rate: 1.0000e-04\n",
            "Epoch 188/200\n",
            "\u001b[1m6/6\u001b[0m \u001b[32m━━━━━━━━━━━━━━━━━━━━\u001b[0m\u001b[37m\u001b[0m \u001b[1m0s\u001b[0m 7ms/step - loss: 8.8878e-04 - learning_rate: 1.0000e-04\n",
            "Epoch 189/200\n",
            "\u001b[1m6/6\u001b[0m \u001b[32m━━━━━━━━━━━━━━━━━━━━\u001b[0m\u001b[37m\u001b[0m \u001b[1m0s\u001b[0m 7ms/step - loss: 0.0010 - learning_rate: 1.0000e-04\n",
            "Epoch 190/200\n",
            "\u001b[1m6/6\u001b[0m \u001b[32m━━━━━━━━━━━━━━━━━━━━\u001b[0m\u001b[37m\u001b[0m \u001b[1m0s\u001b[0m 7ms/step - loss: 9.2212e-04 - learning_rate: 1.0000e-04\n",
            "Epoch 191/200\n",
            "\u001b[1m6/6\u001b[0m \u001b[32m━━━━━━━━━━━━━━━━━━━━\u001b[0m\u001b[37m\u001b[0m \u001b[1m0s\u001b[0m 6ms/step - loss: 0.0010 - learning_rate: 1.0000e-04\n",
            "Epoch 192/200\n",
            "\u001b[1m6/6\u001b[0m \u001b[32m━━━━━━━━━━━━━━━━━━━━\u001b[0m\u001b[37m\u001b[0m \u001b[1m0s\u001b[0m 6ms/step - loss: 9.0082e-04 - learning_rate: 1.0000e-04\n",
            "Epoch 193/200\n",
            "\u001b[1m6/6\u001b[0m \u001b[32m━━━━━━━━━━━━━━━━━━━━\u001b[0m\u001b[37m\u001b[0m \u001b[1m0s\u001b[0m 7ms/step - loss: 8.6804e-04 - learning_rate: 1.0000e-04\n",
            "Epoch 194/200\n",
            "\u001b[1m6/6\u001b[0m \u001b[32m━━━━━━━━━━━━━━━━━━━━\u001b[0m\u001b[37m\u001b[0m \u001b[1m0s\u001b[0m 6ms/step - loss: 0.0010 - learning_rate: 1.0000e-04\n",
            "Epoch 195/200\n",
            "\u001b[1m6/6\u001b[0m \u001b[32m━━━━━━━━━━━━━━━━━━━━\u001b[0m\u001b[37m\u001b[0m \u001b[1m0s\u001b[0m 8ms/step - loss: 0.0010 - learning_rate: 1.0000e-04\n",
            "Epoch 196/200\n",
            "\u001b[1m6/6\u001b[0m \u001b[32m━━━━━━━━━━━━━━━━━━━━\u001b[0m\u001b[37m\u001b[0m \u001b[1m0s\u001b[0m 8ms/step - loss: 9.9197e-04 - learning_rate: 1.0000e-04\n",
            "Epoch 197/200\n",
            "\u001b[1m6/6\u001b[0m \u001b[32m━━━━━━━━━━━━━━━━━━━━\u001b[0m\u001b[37m\u001b[0m \u001b[1m0s\u001b[0m 7ms/step - loss: 0.0010 - learning_rate: 1.0000e-04\n",
            "Epoch 198/200\n",
            "\u001b[1m6/6\u001b[0m \u001b[32m━━━━━━━━━━━━━━━━━━━━\u001b[0m\u001b[37m\u001b[0m \u001b[1m0s\u001b[0m 6ms/step - loss: 0.0010 - learning_rate: 1.0000e-04\n",
            "Epoch 199/200\n",
            "\u001b[1m6/6\u001b[0m \u001b[32m━━━━━━━━━━━━━━━━━━━━\u001b[0m\u001b[37m\u001b[0m \u001b[1m0s\u001b[0m 7ms/step - loss: 0.0010 - learning_rate: 1.0000e-04\n",
            "Epoch 200/200\n",
            "\u001b[1m6/6\u001b[0m \u001b[32m━━━━━━━━━━━━━━━━━━━━\u001b[0m\u001b[37m\u001b[0m \u001b[1m0s\u001b[0m 7ms/step - loss: 9.4154e-04 - learning_rate: 1.0000e-04\n"
          ]
        }
      ]
    },
    {
      "cell_type": "code",
      "source": [
        "# Plot the loss\n",
        "plt.plot(r.history['loss'], label='loss')\n",
        "plt.legend()\n",
        "plt.show()"
      ],
      "metadata": {
        "colab": {
          "base_uri": "https://localhost:8080/",
          "height": 430
        },
        "id": "ikDYLIxE--jb",
        "outputId": "e959b347-ac8d-432b-a475-7a796cac4edb"
      },
      "execution_count": 34,
      "outputs": [
        {
          "output_type": "display_data",
          "data": {
            "text/plain": [
              "<Figure size 640x480 with 1 Axes>"
            ],
            "image/png": "[encoded data removed]"
          },
          "metadata": {}
        }
      ]
    },
    {
      "cell_type": "code",
      "source": [
        "model.layers[0].get_weights()"
      ],
      "metadata": {
        "colab": {
          "base_uri": "https://localhost:8080/"
        },
        "id": "FxJgaRXm_SFN",
        "outputId": "d5877739-a66c-495c-9346-ce752493714e"
      },
      "execution_count": 36,
      "outputs": [
        {
          "output_type": "execute_result",
          "data": {
            "text/plain": [
              "[array([[0.0084564]], dtype=float32), array([1.0343887], dtype=float32)]"
            ]
          },
          "metadata": {},
          "execution_count": 36
        }
      ]
    },
    {
      "cell_type": "code",
      "source": [
        "a=model.layers[0].get_weights()[0][0,0]\n",
        "print(a)"
      ],
      "metadata": {
        "colab": {
          "base_uri": "https://localhost:8080/"
        },
        "id": "4jPBZVuH_lAn",
        "outputId": "0f21857a-029d-4fa9-dbf1-99d3f037e1f7"
      },
      "execution_count": 39,
      "outputs": [
        {
          "output_type": "stream",
          "name": "stdout",
          "text": [
            "0.008456397\n"
          ]
        }
      ]
    },
    {
      "cell_type": "markdown",
      "source": [
        "Our original model for exponential growth is:\n",
        "\n",
        "      C = A0r†\n",
        "\n",
        "Where C is transistor the count and t is the year.\n",
        "\n",
        "r is the rate of growth. For example, when t goes from 1 to 2, C increases by a factor of r. When t goes from 2 to 3, C increases by a factor of r again.\n",
        "\n",
        "When we take the log of both sides, we get:\n",
        "\n",
        "      log C = log r * t + log A0\n",
        "\n",
        "This is our linear equation:\n",
        "\n",
        "      ŷ = ax+b\n",
        "\n",
        "Where:\n",
        "\n",
        "      ŷ = log C\n",
        "      a = log r\n",
        "      x = t\n",
        "      b = log A0\n",
        "\n",
        "We are interested in r, because that's the rate gorwth. Given our regression weights we know that:\n",
        "\n",
        "      a = 0.008456397\n",
        "\n",
        "So that:\n",
        "\n",
        "      r = e0.008456397\n",
        "\n",
        "To find the time it takes for transistor count to double, we simply need to find the amount of time it takes for C to increase to 2C.\n",
        "\n",
        "Let's call the original starting time t, to correspond with the initial transitor count C.\n",
        "\n",
        "Let's call the end time t', to correspond with the finla transitor count 2C.\n",
        "\n",
        "Then we also have:\n",
        "\n",
        "      2C = A0rt'\n",
        "\n",
        "Combine this with out original equation:\n",
        "\n",
        "      C = A0r'\n",
        "\n",
        "We get (by dividing the 2 equations):\n",
        "\n",
        "      2C/C = (Anrt')/Anrt\n",
        "\n",
        "\n",
        "Wich simplifies to:\n",
        "\n",
        "      2 = r(t'-t)\n",
        "\n",
        "Solve for t'-t:\n",
        "\n",
        "      t'-t = log 2 / log r = log 2 / a\n",
        "\n",
        "Important note! We haven't specified what the starting time t actually is, and we dont have to since we just proved that this holds for any t.\n"
      ],
      "metadata": {
        "id": "kmWVV0wtAlfc"
      }
    },
    {
      "cell_type": "code",
      "source": [
        "print(\"Time to double: \", np.log(2)/a)"
      ],
      "metadata": {
        "colab": {
          "base_uri": "https://localhost:8080/"
        },
        "id": "yzolodMyAA6I",
        "outputId": "7af980cd-422c-405e-e546-68d20449da03"
      },
      "execution_count": 40,
      "outputs": [
        {
          "output_type": "stream",
          "name": "stdout",
          "text": [
            "Time to double:  81.96720082913038\n"
          ]
        }
      ]
    },
    {
      "cell_type": "code",
      "source": [
        "X = X.flatten()\n",
        "denominator = X.dot(X) - X.mean() * X.sum()\n",
        "a = (X.dot(Y) - Y.mean() * X.sum()) / denominator\n",
        "b = (Y.mean() * X.dot(X) - X.mean() * X.dot(Y)) / denominator\n",
        "\n",
        "print(a,b)"
      ],
      "metadata": {
        "colab": {
          "base_uri": "https://localhost:8080/"
        },
        "id": "4-MriNgBHQjn",
        "outputId": "0aa9c02b-956e-416e-cc77-e2a6e681d9dc"
      },
      "execution_count": 42,
      "outputs": [
        {
          "output_type": "stream",
          "name": "stdout",
          "text": [
            "0.008419125842470614 1.0345508848072675\n"
          ]
        }
      ]
    },
    {
      "cell_type": "code",
      "source": [
        "print(\"Time to double: \", np.log(2)/a)"
      ],
      "metadata": {
        "colab": {
          "base_uri": "https://localhost:8080/"
        },
        "id": "YGiGr2vNIEK-",
        "outputId": "d210884c-6239-4569-f65f-f164b2e5d4b9"
      },
      "execution_count": 43,
      "outputs": [
        {
          "output_type": "stream",
          "name": "stdout",
          "text": [
            "Time to double:  82.33006532143003\n"
          ]
        }
      ]
    }
  ]
}