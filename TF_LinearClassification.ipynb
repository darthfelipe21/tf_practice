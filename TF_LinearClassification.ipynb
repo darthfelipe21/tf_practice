{
  "nbformat": 4,
  "nbformat_minor": 0,
  "metadata": {
    "colab": {
      "provenance": [],
      "toc_visible": true,
      "authorship_tag": "ABX9TyPYeUYKb2dg1/9NiV6NhVVY",
      "include_colab_link": true
    },
    "kernelspec": {
      "name": "python3",
      "display_name": "Python 3"
    },
    "language_info": {
      "name": "python"
    }
  },
  "cells": [
    {
      "cell_type": "markdown",
      "metadata": {
        "id": "view-in-github",
        "colab_type": "text"
      },
      "source": [
        "<a href=\"https://colab.research.google.com/github/darthfelipe21/tf_practice/blob/main/TF_LinearClassification.ipynb\" target=\"_parent\"><img src=\"https://colab.research.google.com/assets/colab-badge.svg\" alt=\"Open In Colab\"/></a>"
      ]
    },
    {
      "cell_type": "code",
      "execution_count": 1,
      "metadata": {
        "colab": {
          "base_uri": "https://localhost:8080/"
        },
        "id": "nghYdU2L1ckc",
        "outputId": "e96d3ef0-bc9d-43ee-9b97-9d8e6185684e"
      },
      "outputs": [
        {
          "output_type": "stream",
          "name": "stdout",
          "text": [
            "/bin/bash: line 1: tensorflow_version: command not found\n",
            "2.19.0\n"
          ]
        }
      ],
      "source": [
        "try:\n",
        "  !tensorflow_version 2.x\n",
        "except Exception:\n",
        "  pass\n",
        "\n",
        "import tensorflow as tf\n",
        "import numpy as np\n",
        "import matplotlib.pyplot as plt\n",
        "\n",
        "print(tf.__version__)"
      ]
    },
    {
      "cell_type": "code",
      "source": [
        "# Load data from sklearn\n",
        "from sklearn.datasets import load_breast_cancer"
      ],
      "metadata": {
        "id": "0Wss2AK62OqQ"
      },
      "execution_count": 2,
      "outputs": []
    },
    {
      "cell_type": "code",
      "source": [
        "# Look at data\n",
        "data = load_breast_cancer()\n",
        "type(data)"
      ],
      "metadata": {
        "colab": {
          "base_uri": "https://localhost:8080/",
          "height": 187
        },
        "id": "07hmdj_Q2s5S",
        "outputId": "a6293c04-fbdd-40a1-da6a-88c9460bd3bd"
      },
      "execution_count": 3,
      "outputs": [
        {
          "output_type": "execute_result",
          "data": {
            "text/plain": [
              "sklearn.utils._bunch.Bunch"
            ],
            "text/html": [
              "<div style=\"max-width:800px; border: 1px solid var(--colab-border-color);\"><style>\n",
              "      pre.function-repr-contents {\n",
              "        overflow-x: auto;\n",
              "        padding: 8px 12px;\n",
              "        max-height: 500px;\n",
              "      }\n",
              "\n",
              "      pre.function-repr-contents.function-repr-contents-collapsed {\n",
              "        cursor: pointer;\n",
              "        max-height: 100px;\n",
              "      }\n",
              "    </style>\n",
              "    <pre style=\"white-space: initial; background:\n",
              "         var(--colab-secondary-surface-color); padding: 8px 12px;\n",
              "         border-bottom: 1px solid var(--colab-border-color);\"><b>sklearn.utils._bunch.Bunch</b><br/>def __init__(**kwargs)</pre><pre class=\"function-repr-contents function-repr-contents-collapsed\" style=\"\"><a class=\"filepath\" style=\"display:none\" href=\"#\">/usr/local/lib/python3.12/dist-packages/sklearn/utils/_bunch.py</a>Container object exposing keys as attributes.\n",
              "\n",
              "Bunch objects are sometimes used as an output for functions and methods.\n",
              "They extend dictionaries by enabling values to be accessed by key,\n",
              "`bunch[&quot;value_key&quot;]`, or by an attribute, `bunch.value_key`.\n",
              "\n",
              "Examples\n",
              "--------\n",
              "&gt;&gt;&gt; from sklearn.utils import Bunch\n",
              "&gt;&gt;&gt; b = Bunch(a=1, b=2)\n",
              "&gt;&gt;&gt; b[&#x27;b&#x27;]\n",
              "2\n",
              "&gt;&gt;&gt; b.b\n",
              "2\n",
              "&gt;&gt;&gt; b.a = 3\n",
              "&gt;&gt;&gt; b[&#x27;a&#x27;]\n",
              "3\n",
              "&gt;&gt;&gt; b.c = 6\n",
              "&gt;&gt;&gt; b[&#x27;c&#x27;]\n",
              "6</pre>\n",
              "      <script>\n",
              "      if (google.colab.kernel.accessAllowed && google.colab.files && google.colab.files.view) {\n",
              "        for (const element of document.querySelectorAll('.filepath')) {\n",
              "          element.style.display = 'block'\n",
              "          element.onclick = (event) => {\n",
              "            event.preventDefault();\n",
              "            event.stopPropagation();\n",
              "            google.colab.files.view(element.textContent, 7);\n",
              "          };\n",
              "        }\n",
              "      }\n",
              "      for (const element of document.querySelectorAll('.function-repr-contents')) {\n",
              "        element.onclick = (event) => {\n",
              "          event.preventDefault();\n",
              "          event.stopPropagation();\n",
              "          element.classList.toggle('function-repr-contents-collapsed');\n",
              "        };\n",
              "      }\n",
              "      </script>\n",
              "      </div>"
            ]
          },
          "metadata": {},
          "execution_count": 3
        }
      ]
    },
    {
      "cell_type": "code",
      "source": [
        "data.keys()"
      ],
      "metadata": {
        "colab": {
          "base_uri": "https://localhost:8080/"
        },
        "id": "JNNPEAKk2yGo",
        "outputId": "081702bb-ceb1-4c13-85f0-51c7b631001a"
      },
      "execution_count": 4,
      "outputs": [
        {
          "output_type": "execute_result",
          "data": {
            "text/plain": [
              "dict_keys(['data', 'target', 'frame', 'target_names', 'DESCR', 'feature_names', 'filename', 'data_module'])"
            ]
          },
          "metadata": {},
          "execution_count": 4
        }
      ]
    },
    {
      "cell_type": "code",
      "source": [
        "data.data.shape"
      ],
      "metadata": {
        "colab": {
          "base_uri": "https://localhost:8080/"
        },
        "id": "lFLRnK6o21lu",
        "outputId": "bf2c2261-00a3-49ad-ab31-40dcc1d8a65d"
      },
      "execution_count": 5,
      "outputs": [
        {
          "output_type": "execute_result",
          "data": {
            "text/plain": [
              "(569, 30)"
            ]
          },
          "metadata": {},
          "execution_count": 5
        }
      ]
    },
    {
      "cell_type": "code",
      "source": [
        "print(data.target_names)"
      ],
      "metadata": {
        "colab": {
          "base_uri": "https://localhost:8080/"
        },
        "id": "z1gh7f573Aq1",
        "outputId": "116bf87a-eabb-422e-ad59-b97f991f0e51"
      },
      "execution_count": 6,
      "outputs": [
        {
          "output_type": "stream",
          "name": "stdout",
          "text": [
            "['malignant' 'benign']\n"
          ]
        }
      ]
    },
    {
      "cell_type": "code",
      "source": [
        "print(data.feature_names)"
      ],
      "metadata": {
        "colab": {
          "base_uri": "https://localhost:8080/"
        },
        "id": "C4-j6HpH3-5n",
        "outputId": "f66d39ee-4e9f-4a16-9f8f-16bab89c4879"
      },
      "execution_count": 7,
      "outputs": [
        {
          "output_type": "stream",
          "name": "stdout",
          "text": [
            "['mean radius' 'mean texture' 'mean perimeter' 'mean area'\n",
            " 'mean smoothness' 'mean compactness' 'mean concavity'\n",
            " 'mean concave points' 'mean symmetry' 'mean fractal dimension'\n",
            " 'radius error' 'texture error' 'perimeter error' 'area error'\n",
            " 'smoothness error' 'compactness error' 'concavity error'\n",
            " 'concave points error' 'symmetry error' 'fractal dimension error'\n",
            " 'worst radius' 'worst texture' 'worst perimeter' 'worst area'\n",
            " 'worst smoothness' 'worst compactness' 'worst concavity'\n",
            " 'worst concave points' 'worst symmetry' 'worst fractal dimension']\n"
          ]
        }
      ]
    },
    {
      "cell_type": "code",
      "source": [
        "from sklearn.model_selection import train_test_split\n",
        "\n",
        "X_train, X_test, y_train, y_test = train_test_split(data.data, data.target, test_size= 0.3)"
      ],
      "metadata": {
        "id": "DGPdx_qG4BQ2"
      },
      "execution_count": 8,
      "outputs": []
    },
    {
      "cell_type": "code",
      "source": [
        "N, D = X_train.shape\n",
        "N,D"
      ],
      "metadata": {
        "colab": {
          "base_uri": "https://localhost:8080/"
        },
        "id": "TV2Z8CCk5FL3",
        "outputId": "8670eb2f-4b3f-4aac-a118-fee627f4d1bb"
      },
      "execution_count": 9,
      "outputs": [
        {
          "output_type": "execute_result",
          "data": {
            "text/plain": [
              "(398, 30)"
            ]
          },
          "metadata": {},
          "execution_count": 9
        }
      ]
    },
    {
      "cell_type": "code",
      "source": [
        "# Estandarizar los datos para que tengan un media de 0 y una desviacion estandar de 1 (distribución normal)\n",
        "from sklearn.preprocessing import StandardScaler\n",
        "\n",
        "scaler = StandardScaler()\n",
        "\n",
        "# Se usa fit_transform para que calcule la media y la desviación estandar de los datos de entrenamiento\n",
        "X_train = scaler.fit_transform(X_train)\n",
        "\n",
        "# Se usa solo transform porque la datos de media y desviación estandar ya fueron calculados dentro del entrenamiento\n",
        "X_test = scaler.transform(X_test)"
      ],
      "metadata": {
        "id": "crw8vsCD5TMc"
      },
      "execution_count": 10,
      "outputs": []
    },
    {
      "cell_type": "code",
      "source": [
        "model = tf.keras.models.Sequential(\n",
        "    [tf.keras.layers.Input(shape=(D,)),\n",
        "     tf.keras.layers.Dense(1, activation='sigmoid')]\n",
        ")\n",
        "\n",
        "model.compile(optimizer='adam',\n",
        "              loss='binary_crossentropy',\n",
        "              metrics=['accuracy'])"
      ],
      "metadata": {
        "id": "z-RINkEd5d5r"
      },
      "execution_count": 11,
      "outputs": []
    },
    {
      "cell_type": "code",
      "source": [
        "r = model.fit(X_train, y_train, validation_data=(X_test, y_test), epochs=100)"
      ],
      "metadata": {
        "colab": {
          "base_uri": "https://localhost:8080/"
        },
        "id": "0KlTuq1I4E19",
        "outputId": "9672a832-91e7-499f-e324-bcee8e9e5058"
      },
      "execution_count": 12,
      "outputs": [
        {
          "output_type": "stream",
          "name": "stdout",
          "text": [
            "Epoch 1/100\n",
            "\u001b[1m13/13\u001b[0m \u001b[32m━━━━━━━━━━━━━━━━━━━━\u001b[0m\u001b[37m\u001b[0m \u001b[1m3s\u001b[0m 56ms/step - accuracy: 0.3566 - loss: 1.1283 - val_accuracy: 0.4269 - val_loss: 1.0549\n",
            "Epoch 2/100\n",
            "\u001b[1m13/13\u001b[0m \u001b[32m━━━━━━━━━━━━━━━━━━━━\u001b[0m\u001b[37m\u001b[0m \u001b[1m1s\u001b[0m 12ms/step - accuracy: 0.3951 - loss: 1.0029 - val_accuracy: 0.4737 - val_loss: 0.9435\n",
            "Epoch 3/100\n",
            "\u001b[1m13/13\u001b[0m \u001b[32m━━━━━━━━━━━━━━━━━━━━\u001b[0m\u001b[37m\u001b[0m \u001b[1m0s\u001b[0m 8ms/step - accuracy: 0.4508 - loss: 0.9442 - val_accuracy: 0.5263 - val_loss: 0.8415\n",
            "Epoch 4/100\n",
            "\u001b[1m13/13\u001b[0m \u001b[32m━━━━━━━━━━━━━━━━━━━━\u001b[0m\u001b[37m\u001b[0m \u001b[1m0s\u001b[0m 8ms/step - accuracy: 0.5125 - loss: 0.8384 - val_accuracy: 0.5789 - val_loss: 0.7506\n",
            "Epoch 5/100\n",
            "\u001b[1m13/13\u001b[0m \u001b[32m━━━━━━━━━━━━━━━━━━━━\u001b[0m\u001b[37m\u001b[0m \u001b[1m0s\u001b[0m 8ms/step - accuracy: 0.5691 - loss: 0.7420 - val_accuracy: 0.6667 - val_loss: 0.6709\n",
            "Epoch 6/100\n",
            "\u001b[1m13/13\u001b[0m \u001b[32m━━━━━━━━━━━━━━━━━━━━\u001b[0m\u001b[37m\u001b[0m \u001b[1m0s\u001b[0m 8ms/step - accuracy: 0.6547 - loss: 0.6866 - val_accuracy: 0.7135 - val_loss: 0.6020\n",
            "Epoch 7/100\n",
            "\u001b[1m13/13\u001b[0m \u001b[32m━━━━━━━━━━━━━━━━━━━━\u001b[0m\u001b[37m\u001b[0m \u001b[1m0s\u001b[0m 8ms/step - accuracy: 0.7096 - loss: 0.6036 - val_accuracy: 0.7544 - val_loss: 0.5436\n",
            "Epoch 8/100\n",
            "\u001b[1m13/13\u001b[0m \u001b[32m━━━━━━━━━━━━━━━━━━━━\u001b[0m\u001b[37m\u001b[0m \u001b[1m0s\u001b[0m 8ms/step - accuracy: 0.7391 - loss: 0.5673 - val_accuracy: 0.7778 - val_loss: 0.4956\n",
            "Epoch 9/100\n",
            "\u001b[1m13/13\u001b[0m \u001b[32m━━━━━━━━━━━━━━━━━━━━\u001b[0m\u001b[37m\u001b[0m \u001b[1m0s\u001b[0m 11ms/step - accuracy: 0.7907 - loss: 0.4878 - val_accuracy: 0.8304 - val_loss: 0.4533\n",
            "Epoch 10/100\n",
            "\u001b[1m13/13\u001b[0m \u001b[32m━━━━━━━━━━━━━━━━━━━━\u001b[0m\u001b[37m\u001b[0m \u001b[1m0s\u001b[0m 8ms/step - accuracy: 0.8139 - loss: 0.4659 - val_accuracy: 0.8538 - val_loss: 0.4178\n",
            "Epoch 11/100\n",
            "\u001b[1m13/13\u001b[0m \u001b[32m━━━━━━━━━━━━━━━━━━━━\u001b[0m\u001b[37m\u001b[0m \u001b[1m0s\u001b[0m 8ms/step - accuracy: 0.8163 - loss: 0.4400 - val_accuracy: 0.8713 - val_loss: 0.3874\n",
            "Epoch 12/100\n",
            "\u001b[1m13/13\u001b[0m \u001b[32m━━━━━━━━━━━━━━━━━━━━\u001b[0m\u001b[37m\u001b[0m \u001b[1m0s\u001b[0m 8ms/step - accuracy: 0.8332 - loss: 0.4037 - val_accuracy: 0.8772 - val_loss: 0.3619\n",
            "Epoch 13/100\n",
            "\u001b[1m13/13\u001b[0m \u001b[32m━━━━━━━━━━━━━━━━━━━━\u001b[0m\u001b[37m\u001b[0m \u001b[1m0s\u001b[0m 8ms/step - accuracy: 0.8713 - loss: 0.3637 - val_accuracy: 0.8889 - val_loss: 0.3391\n",
            "Epoch 14/100\n",
            "\u001b[1m13/13\u001b[0m \u001b[32m━━━━━━━━━━━━━━━━━━━━\u001b[0m\u001b[37m\u001b[0m \u001b[1m0s\u001b[0m 10ms/step - accuracy: 0.8927 - loss: 0.3389 - val_accuracy: 0.8889 - val_loss: 0.3193\n",
            "Epoch 15/100\n",
            "\u001b[1m13/13\u001b[0m \u001b[32m━━━━━━━━━━━━━━━━━━━━\u001b[0m\u001b[37m\u001b[0m \u001b[1m0s\u001b[0m 9ms/step - accuracy: 0.8913 - loss: 0.3255 - val_accuracy: 0.9064 - val_loss: 0.3020\n",
            "Epoch 16/100\n",
            "\u001b[1m13/13\u001b[0m \u001b[32m━━━━━━━━━━━━━━━━━━━━\u001b[0m\u001b[37m\u001b[0m \u001b[1m0s\u001b[0m 8ms/step - accuracy: 0.8764 - loss: 0.3328 - val_accuracy: 0.9123 - val_loss: 0.2872\n",
            "Epoch 17/100\n",
            "\u001b[1m13/13\u001b[0m \u001b[32m━━━━━━━━━━━━━━━━━━━━\u001b[0m\u001b[37m\u001b[0m \u001b[1m0s\u001b[0m 8ms/step - accuracy: 0.9070 - loss: 0.3006 - val_accuracy: 0.9298 - val_loss: 0.2743\n",
            "Epoch 18/100\n",
            "\u001b[1m13/13\u001b[0m \u001b[32m━━━━━━━━━━━━━━━━━━━━\u001b[0m\u001b[37m\u001b[0m \u001b[1m0s\u001b[0m 8ms/step - accuracy: 0.9145 - loss: 0.2844 - val_accuracy: 0.9298 - val_loss: 0.2629\n",
            "Epoch 19/100\n",
            "\u001b[1m13/13\u001b[0m \u001b[32m━━━━━━━━━━━━━━━━━━━━\u001b[0m\u001b[37m\u001b[0m \u001b[1m0s\u001b[0m 8ms/step - accuracy: 0.9393 - loss: 0.2710 - val_accuracy: 0.9298 - val_loss: 0.2527\n",
            "Epoch 20/100\n",
            "\u001b[1m13/13\u001b[0m \u001b[32m━━━━━━━━━━━━━━━━━━━━\u001b[0m\u001b[37m\u001b[0m \u001b[1m0s\u001b[0m 8ms/step - accuracy: 0.9286 - loss: 0.2665 - val_accuracy: 0.9415 - val_loss: 0.2436\n",
            "Epoch 21/100\n",
            "\u001b[1m13/13\u001b[0m \u001b[32m━━━━━━━━━━━━━━━━━━━━\u001b[0m\u001b[37m\u001b[0m \u001b[1m0s\u001b[0m 8ms/step - accuracy: 0.9452 - loss: 0.2630 - val_accuracy: 0.9474 - val_loss: 0.2352\n",
            "Epoch 22/100\n",
            "\u001b[1m13/13\u001b[0m \u001b[32m━━━━━━━━━━━━━━━━━━━━\u001b[0m\u001b[37m\u001b[0m \u001b[1m0s\u001b[0m 8ms/step - accuracy: 0.9458 - loss: 0.2481 - val_accuracy: 0.9649 - val_loss: 0.2278\n",
            "Epoch 23/100\n",
            "\u001b[1m13/13\u001b[0m \u001b[32m━━━━━━━━━━━━━━━━━━━━\u001b[0m\u001b[37m\u001b[0m \u001b[1m0s\u001b[0m 10ms/step - accuracy: 0.9673 - loss: 0.2204 - val_accuracy: 0.9649 - val_loss: 0.2210\n",
            "Epoch 24/100\n",
            "\u001b[1m13/13\u001b[0m \u001b[32m━━━━━━━━━━━━━━━━━━━━\u001b[0m\u001b[37m\u001b[0m \u001b[1m0s\u001b[0m 8ms/step - accuracy: 0.9575 - loss: 0.2282 - val_accuracy: 0.9649 - val_loss: 0.2148\n",
            "Epoch 25/100\n",
            "\u001b[1m13/13\u001b[0m \u001b[32m━━━━━━━━━━━━━━━━━━━━\u001b[0m\u001b[37m\u001b[0m \u001b[1m0s\u001b[0m 8ms/step - accuracy: 0.9627 - loss: 0.2222 - val_accuracy: 0.9649 - val_loss: 0.2092\n",
            "Epoch 26/100\n",
            "\u001b[1m13/13\u001b[0m \u001b[32m━━━━━━━━━━━━━━━━━━━━\u001b[0m\u001b[37m\u001b[0m \u001b[1m0s\u001b[0m 8ms/step - accuracy: 0.9587 - loss: 0.2123 - val_accuracy: 0.9649 - val_loss: 0.2042\n",
            "Epoch 27/100\n",
            "\u001b[1m13/13\u001b[0m \u001b[32m━━━━━━━━━━━━━━━━━━━━\u001b[0m\u001b[37m\u001b[0m \u001b[1m0s\u001b[0m 8ms/step - accuracy: 0.9409 - loss: 0.2042 - val_accuracy: 0.9649 - val_loss: 0.1995\n",
            "Epoch 28/100\n",
            "\u001b[1m13/13\u001b[0m \u001b[32m━━━━━━━━━━━━━━━━━━━━\u001b[0m\u001b[37m\u001b[0m \u001b[1m0s\u001b[0m 8ms/step - accuracy: 0.9609 - loss: 0.2048 - val_accuracy: 0.9649 - val_loss: 0.1951\n",
            "Epoch 29/100\n",
            "\u001b[1m13/13\u001b[0m \u001b[32m━━━━━━━━━━━━━━━━━━━━\u001b[0m\u001b[37m\u001b[0m \u001b[1m0s\u001b[0m 8ms/step - accuracy: 0.9548 - loss: 0.2130 - val_accuracy: 0.9708 - val_loss: 0.1911\n",
            "Epoch 30/100\n",
            "\u001b[1m13/13\u001b[0m \u001b[32m━━━━━━━━━━━━━━━━━━━━\u001b[0m\u001b[37m\u001b[0m \u001b[1m0s\u001b[0m 9ms/step - accuracy: 0.9614 - loss: 0.1870 - val_accuracy: 0.9649 - val_loss: 0.1873\n",
            "Epoch 31/100\n",
            "\u001b[1m13/13\u001b[0m \u001b[32m━━━━━━━━━━━━━━━━━━━━\u001b[0m\u001b[37m\u001b[0m \u001b[1m0s\u001b[0m 8ms/step - accuracy: 0.9765 - loss: 0.1757 - val_accuracy: 0.9649 - val_loss: 0.1838\n",
            "Epoch 32/100\n",
            "\u001b[1m13/13\u001b[0m \u001b[32m━━━━━━━━━━━━━━━━━━━━\u001b[0m\u001b[37m\u001b[0m \u001b[1m0s\u001b[0m 11ms/step - accuracy: 0.9670 - loss: 0.1829 - val_accuracy: 0.9649 - val_loss: 0.1807\n",
            "Epoch 33/100\n",
            "\u001b[1m13/13\u001b[0m \u001b[32m━━━━━━━━━━━━━━━━━━━━\u001b[0m\u001b[37m\u001b[0m \u001b[1m0s\u001b[0m 11ms/step - accuracy: 0.9683 - loss: 0.1721 - val_accuracy: 0.9649 - val_loss: 0.1777\n",
            "Epoch 34/100\n",
            "\u001b[1m13/13\u001b[0m \u001b[32m━━━━━━━━━━━━━━━━━━━━\u001b[0m\u001b[37m\u001b[0m \u001b[1m0s\u001b[0m 11ms/step - accuracy: 0.9577 - loss: 0.1850 - val_accuracy: 0.9649 - val_loss: 0.1749\n",
            "Epoch 35/100\n",
            "\u001b[1m13/13\u001b[0m \u001b[32m━━━━━━━━━━━━━━━━━━━━\u001b[0m\u001b[37m\u001b[0m \u001b[1m0s\u001b[0m 11ms/step - accuracy: 0.9722 - loss: 0.1694 - val_accuracy: 0.9649 - val_loss: 0.1722\n",
            "Epoch 36/100\n",
            "\u001b[1m13/13\u001b[0m \u001b[32m━━━━━━━━━━━━━━━━━━━━\u001b[0m\u001b[37m\u001b[0m \u001b[1m0s\u001b[0m 13ms/step - accuracy: 0.9756 - loss: 0.1498 - val_accuracy: 0.9649 - val_loss: 0.1696\n",
            "Epoch 37/100\n",
            "\u001b[1m13/13\u001b[0m \u001b[32m━━━━━━━━━━━━━━━━━━━━\u001b[0m\u001b[37m\u001b[0m \u001b[1m0s\u001b[0m 13ms/step - accuracy: 0.9728 - loss: 0.1635 - val_accuracy: 0.9649 - val_loss: 0.1672\n",
            "Epoch 38/100\n",
            "\u001b[1m13/13\u001b[0m \u001b[32m━━━━━━━━━━━━━━━━━━━━\u001b[0m\u001b[37m\u001b[0m \u001b[1m0s\u001b[0m 15ms/step - accuracy: 0.9626 - loss: 0.1536 - val_accuracy: 0.9649 - val_loss: 0.1649\n",
            "Epoch 39/100\n",
            "\u001b[1m13/13\u001b[0m \u001b[32m━━━━━━━━━━━━━━━━━━━━\u001b[0m\u001b[37m\u001b[0m \u001b[1m0s\u001b[0m 17ms/step - accuracy: 0.9789 - loss: 0.1461 - val_accuracy: 0.9649 - val_loss: 0.1628\n",
            "Epoch 40/100\n",
            "\u001b[1m13/13\u001b[0m \u001b[32m━━━━━━━━━━━━━━━━━━━━\u001b[0m\u001b[37m\u001b[0m \u001b[1m0s\u001b[0m 20ms/step - accuracy: 0.9725 - loss: 0.1586 - val_accuracy: 0.9649 - val_loss: 0.1607\n",
            "Epoch 41/100\n",
            "\u001b[1m13/13\u001b[0m \u001b[32m━━━━━━━━━━━━━━━━━━━━\u001b[0m\u001b[37m\u001b[0m \u001b[1m0s\u001b[0m 8ms/step - accuracy: 0.9786 - loss: 0.1500 - val_accuracy: 0.9649 - val_loss: 0.1587\n",
            "Epoch 42/100\n",
            "\u001b[1m13/13\u001b[0m \u001b[32m━━━━━━━━━━━━━━━━━━━━\u001b[0m\u001b[37m\u001b[0m \u001b[1m0s\u001b[0m 9ms/step - accuracy: 0.9780 - loss: 0.1445 - val_accuracy: 0.9649 - val_loss: 0.1569\n",
            "Epoch 43/100\n",
            "\u001b[1m13/13\u001b[0m \u001b[32m━━━━━━━━━━━━━━━━━━━━\u001b[0m\u001b[37m\u001b[0m \u001b[1m0s\u001b[0m 8ms/step - accuracy: 0.9795 - loss: 0.1505 - val_accuracy: 0.9649 - val_loss: 0.1551\n",
            "Epoch 44/100\n",
            "\u001b[1m13/13\u001b[0m \u001b[32m━━━━━━━━━━━━━━━━━━━━\u001b[0m\u001b[37m\u001b[0m \u001b[1m0s\u001b[0m 8ms/step - accuracy: 0.9737 - loss: 0.1456 - val_accuracy: 0.9649 - val_loss: 0.1534\n",
            "Epoch 45/100\n",
            "\u001b[1m13/13\u001b[0m \u001b[32m━━━━━━━━━━━━━━━━━━━━\u001b[0m\u001b[37m\u001b[0m \u001b[1m0s\u001b[0m 8ms/step - accuracy: 0.9747 - loss: 0.1465 - val_accuracy: 0.9649 - val_loss: 0.1518\n",
            "Epoch 46/100\n",
            "\u001b[1m13/13\u001b[0m \u001b[32m━━━━━━━━━━━━━━━━━━━━\u001b[0m\u001b[37m\u001b[0m \u001b[1m0s\u001b[0m 8ms/step - accuracy: 0.9773 - loss: 0.1464 - val_accuracy: 0.9649 - val_loss: 0.1502\n",
            "Epoch 47/100\n",
            "\u001b[1m13/13\u001b[0m \u001b[32m━━━━━━━━━━━━━━━━━━━━\u001b[0m\u001b[37m\u001b[0m \u001b[1m0s\u001b[0m 8ms/step - accuracy: 0.9692 - loss: 0.1544 - val_accuracy: 0.9649 - val_loss: 0.1486\n",
            "Epoch 48/100\n",
            "\u001b[1m13/13\u001b[0m \u001b[32m━━━━━━━━━━━━━━━━━━━━\u001b[0m\u001b[37m\u001b[0m \u001b[1m0s\u001b[0m 8ms/step - accuracy: 0.9686 - loss: 0.1505 - val_accuracy: 0.9649 - val_loss: 0.1471\n",
            "Epoch 49/100\n",
            "\u001b[1m13/13\u001b[0m \u001b[32m━━━━━━━━━━━━━━━━━━━━\u001b[0m\u001b[37m\u001b[0m \u001b[1m0s\u001b[0m 8ms/step - accuracy: 0.9827 - loss: 0.1355 - val_accuracy: 0.9649 - val_loss: 0.1457\n",
            "Epoch 50/100\n",
            "\u001b[1m13/13\u001b[0m \u001b[32m━━━━━━━━━━━━━━━━━━━━\u001b[0m\u001b[37m\u001b[0m \u001b[1m0s\u001b[0m 8ms/step - accuracy: 0.9752 - loss: 0.1323 - val_accuracy: 0.9649 - val_loss: 0.1443\n",
            "Epoch 51/100\n",
            "\u001b[1m13/13\u001b[0m \u001b[32m━━━━━━━━━━━━━━━━━━━━\u001b[0m\u001b[37m\u001b[0m \u001b[1m0s\u001b[0m 8ms/step - accuracy: 0.9805 - loss: 0.1220 - val_accuracy: 0.9649 - val_loss: 0.1429\n",
            "Epoch 52/100\n",
            "\u001b[1m13/13\u001b[0m \u001b[32m━━━━━━━━━━━━━━━━━━━━\u001b[0m\u001b[37m\u001b[0m \u001b[1m0s\u001b[0m 8ms/step - accuracy: 0.9709 - loss: 0.1617 - val_accuracy: 0.9649 - val_loss: 0.1417\n",
            "Epoch 53/100\n",
            "\u001b[1m13/13\u001b[0m \u001b[32m━━━━━━━━━━━━━━━━━━━━\u001b[0m\u001b[37m\u001b[0m \u001b[1m0s\u001b[0m 8ms/step - accuracy: 0.9709 - loss: 0.1429 - val_accuracy: 0.9649 - val_loss: 0.1405\n",
            "Epoch 54/100\n",
            "\u001b[1m13/13\u001b[0m \u001b[32m━━━━━━━━━━━━━━━━━━━━\u001b[0m\u001b[37m\u001b[0m \u001b[1m0s\u001b[0m 8ms/step - accuracy: 0.9799 - loss: 0.1358 - val_accuracy: 0.9649 - val_loss: 0.1393\n",
            "Epoch 55/100\n",
            "\u001b[1m13/13\u001b[0m \u001b[32m━━━━━━━━━━━━━━━━━━━━\u001b[0m\u001b[37m\u001b[0m \u001b[1m0s\u001b[0m 8ms/step - accuracy: 0.9795 - loss: 0.1308 - val_accuracy: 0.9649 - val_loss: 0.1381\n",
            "Epoch 56/100\n",
            "\u001b[1m13/13\u001b[0m \u001b[32m━━━━━━━━━━━━━━━━━━━━\u001b[0m\u001b[37m\u001b[0m \u001b[1m0s\u001b[0m 8ms/step - accuracy: 0.9873 - loss: 0.1120 - val_accuracy: 0.9649 - val_loss: 0.1370\n",
            "Epoch 57/100\n",
            "\u001b[1m13/13\u001b[0m \u001b[32m━━━━━━━━━━━━━━━━━━━━\u001b[0m\u001b[37m\u001b[0m \u001b[1m0s\u001b[0m 9ms/step - accuracy: 0.9797 - loss: 0.1287 - val_accuracy: 0.9649 - val_loss: 0.1359\n",
            "Epoch 58/100\n",
            "\u001b[1m13/13\u001b[0m \u001b[32m━━━━━━━━━━━━━━━━━━━━\u001b[0m\u001b[37m\u001b[0m \u001b[1m0s\u001b[0m 11ms/step - accuracy: 0.9908 - loss: 0.1253 - val_accuracy: 0.9649 - val_loss: 0.1348\n",
            "Epoch 59/100\n",
            "\u001b[1m13/13\u001b[0m \u001b[32m━━━━━━━━━━━━━━━━━━━━\u001b[0m\u001b[37m\u001b[0m \u001b[1m0s\u001b[0m 8ms/step - accuracy: 0.9825 - loss: 0.1256 - val_accuracy: 0.9649 - val_loss: 0.1338\n",
            "Epoch 60/100\n",
            "\u001b[1m13/13\u001b[0m \u001b[32m━━━━━━━━━━━━━━━━━━━━\u001b[0m\u001b[37m\u001b[0m \u001b[1m0s\u001b[0m 8ms/step - accuracy: 0.9903 - loss: 0.1163 - val_accuracy: 0.9649 - val_loss: 0.1328\n",
            "Epoch 61/100\n",
            "\u001b[1m13/13\u001b[0m \u001b[32m━━━━━━━━━━━━━━━━━━━━\u001b[0m\u001b[37m\u001b[0m \u001b[1m0s\u001b[0m 8ms/step - accuracy: 0.9733 - loss: 0.1417 - val_accuracy: 0.9649 - val_loss: 0.1319\n",
            "Epoch 62/100\n",
            "\u001b[1m13/13\u001b[0m \u001b[32m━━━━━━━━━━━━━━━━━━━━\u001b[0m\u001b[37m\u001b[0m \u001b[1m0s\u001b[0m 8ms/step - accuracy: 0.9878 - loss: 0.1174 - val_accuracy: 0.9649 - val_loss: 0.1309\n",
            "Epoch 63/100\n",
            "\u001b[1m13/13\u001b[0m \u001b[32m━━━━━━━━━━━━━━━━━━━━\u001b[0m\u001b[37m\u001b[0m \u001b[1m0s\u001b[0m 11ms/step - accuracy: 0.9808 - loss: 0.1237 - val_accuracy: 0.9649 - val_loss: 0.1300\n",
            "Epoch 64/100\n",
            "\u001b[1m13/13\u001b[0m \u001b[32m━━━━━━━━━━━━━━━━━━━━\u001b[0m\u001b[37m\u001b[0m \u001b[1m0s\u001b[0m 8ms/step - accuracy: 0.9820 - loss: 0.1206 - val_accuracy: 0.9649 - val_loss: 0.1290\n",
            "Epoch 65/100\n",
            "\u001b[1m13/13\u001b[0m \u001b[32m━━━━━━━━━━━━━━━━━━━━\u001b[0m\u001b[37m\u001b[0m \u001b[1m0s\u001b[0m 8ms/step - accuracy: 0.9762 - loss: 0.1274 - val_accuracy: 0.9649 - val_loss: 0.1283\n",
            "Epoch 66/100\n",
            "\u001b[1m13/13\u001b[0m \u001b[32m━━━━━━━━━━━━━━━━━━━━\u001b[0m\u001b[37m\u001b[0m \u001b[1m0s\u001b[0m 8ms/step - accuracy: 0.9776 - loss: 0.1204 - val_accuracy: 0.9649 - val_loss: 0.1274\n",
            "Epoch 67/100\n",
            "\u001b[1m13/13\u001b[0m \u001b[32m━━━━━━━━━━━━━━━━━━━━\u001b[0m\u001b[37m\u001b[0m \u001b[1m0s\u001b[0m 8ms/step - accuracy: 0.9792 - loss: 0.1103 - val_accuracy: 0.9649 - val_loss: 0.1265\n",
            "Epoch 68/100\n",
            "\u001b[1m13/13\u001b[0m \u001b[32m━━━━━━━━━━━━━━━━━━━━\u001b[0m\u001b[37m\u001b[0m \u001b[1m0s\u001b[0m 8ms/step - accuracy: 0.9841 - loss: 0.1127 - val_accuracy: 0.9649 - val_loss: 0.1256\n",
            "Epoch 69/100\n",
            "\u001b[1m13/13\u001b[0m \u001b[32m━━━━━━━━━━━━━━━━━━━━\u001b[0m\u001b[37m\u001b[0m \u001b[1m0s\u001b[0m 8ms/step - accuracy: 0.9874 - loss: 0.1112 - val_accuracy: 0.9649 - val_loss: 0.1248\n",
            "Epoch 70/100\n",
            "\u001b[1m13/13\u001b[0m \u001b[32m━━━━━━━━━━━━━━━━━━━━\u001b[0m\u001b[37m\u001b[0m \u001b[1m0s\u001b[0m 12ms/step - accuracy: 0.9838 - loss: 0.1159 - val_accuracy: 0.9649 - val_loss: 0.1239\n",
            "Epoch 71/100\n",
            "\u001b[1m13/13\u001b[0m \u001b[32m━━━━━━━━━━━━━━━━━━━━\u001b[0m\u001b[37m\u001b[0m \u001b[1m0s\u001b[0m 11ms/step - accuracy: 0.9853 - loss: 0.1183 - val_accuracy: 0.9649 - val_loss: 0.1232\n",
            "Epoch 72/100\n",
            "\u001b[1m13/13\u001b[0m \u001b[32m━━━━━━━━━━━━━━━━━━━━\u001b[0m\u001b[37m\u001b[0m \u001b[1m0s\u001b[0m 8ms/step - accuracy: 0.9819 - loss: 0.1198 - val_accuracy: 0.9649 - val_loss: 0.1224\n",
            "Epoch 73/100\n",
            "\u001b[1m13/13\u001b[0m \u001b[32m━━━━━━━━━━━━━━━━━━━━\u001b[0m\u001b[37m\u001b[0m \u001b[1m0s\u001b[0m 8ms/step - accuracy: 0.9816 - loss: 0.1069 - val_accuracy: 0.9649 - val_loss: 0.1217\n",
            "Epoch 74/100\n",
            "\u001b[1m13/13\u001b[0m \u001b[32m━━━━━━━━━━━━━━━━━━━━\u001b[0m\u001b[37m\u001b[0m \u001b[1m0s\u001b[0m 8ms/step - accuracy: 0.9767 - loss: 0.1218 - val_accuracy: 0.9649 - val_loss: 0.1210\n",
            "Epoch 75/100\n",
            "\u001b[1m13/13\u001b[0m \u001b[32m━━━━━━━━━━━━━━━━━━━━\u001b[0m\u001b[37m\u001b[0m \u001b[1m0s\u001b[0m 11ms/step - accuracy: 0.9864 - loss: 0.0941 - val_accuracy: 0.9649 - val_loss: 0.1204\n",
            "Epoch 76/100\n",
            "\u001b[1m13/13\u001b[0m \u001b[32m━━━━━━━━━━━━━━━━━━━━\u001b[0m\u001b[37m\u001b[0m \u001b[1m0s\u001b[0m 12ms/step - accuracy: 0.9794 - loss: 0.1026 - val_accuracy: 0.9649 - val_loss: 0.1197\n",
            "Epoch 77/100\n",
            "\u001b[1m13/13\u001b[0m \u001b[32m━━━━━━━━━━━━━━━━━━━━\u001b[0m\u001b[37m\u001b[0m \u001b[1m0s\u001b[0m 13ms/step - accuracy: 0.9837 - loss: 0.1097 - val_accuracy: 0.9649 - val_loss: 0.1191\n",
            "Epoch 78/100\n",
            "\u001b[1m13/13\u001b[0m \u001b[32m━━━━━━━━━━━━━━━━━━━━\u001b[0m\u001b[37m\u001b[0m \u001b[1m0s\u001b[0m 14ms/step - accuracy: 0.9804 - loss: 0.1170 - val_accuracy: 0.9649 - val_loss: 0.1183\n",
            "Epoch 79/100\n",
            "\u001b[1m13/13\u001b[0m \u001b[32m━━━━━━━━━━━━━━━━━━━━\u001b[0m\u001b[37m\u001b[0m \u001b[1m0s\u001b[0m 12ms/step - accuracy: 0.9816 - loss: 0.1065 - val_accuracy: 0.9649 - val_loss: 0.1176\n",
            "Epoch 80/100\n",
            "\u001b[1m13/13\u001b[0m \u001b[32m━━━━━━━━━━━━━━━━━━━━\u001b[0m\u001b[37m\u001b[0m \u001b[1m0s\u001b[0m 12ms/step - accuracy: 0.9759 - loss: 0.1289 - val_accuracy: 0.9649 - val_loss: 0.1169\n",
            "Epoch 81/100\n",
            "\u001b[1m13/13\u001b[0m \u001b[32m━━━━━━━━━━━━━━━━━━━━\u001b[0m\u001b[37m\u001b[0m \u001b[1m0s\u001b[0m 11ms/step - accuracy: 0.9802 - loss: 0.0997 - val_accuracy: 0.9649 - val_loss: 0.1163\n",
            "Epoch 82/100\n",
            "\u001b[1m13/13\u001b[0m \u001b[32m━━━━━━━━━━━━━━━━━━━━\u001b[0m\u001b[37m\u001b[0m \u001b[1m0s\u001b[0m 11ms/step - accuracy: 0.9773 - loss: 0.1021 - val_accuracy: 0.9708 - val_loss: 0.1157\n",
            "Epoch 83/100\n",
            "\u001b[1m13/13\u001b[0m \u001b[32m━━━━━━━━━━━━━━━━━━━━\u001b[0m\u001b[37m\u001b[0m \u001b[1m0s\u001b[0m 8ms/step - accuracy: 0.9809 - loss: 0.1185 - val_accuracy: 0.9708 - val_loss: 0.1151\n",
            "Epoch 84/100\n",
            "\u001b[1m13/13\u001b[0m \u001b[32m━━━━━━━━━━━━━━━━━━━━\u001b[0m\u001b[37m\u001b[0m \u001b[1m0s\u001b[0m 11ms/step - accuracy: 0.9896 - loss: 0.0901 - val_accuracy: 0.9708 - val_loss: 0.1144\n",
            "Epoch 85/100\n",
            "\u001b[1m13/13\u001b[0m \u001b[32m━━━━━━━━━━━━━━━━━━━━\u001b[0m\u001b[37m\u001b[0m \u001b[1m0s\u001b[0m 8ms/step - accuracy: 0.9889 - loss: 0.0992 - val_accuracy: 0.9708 - val_loss: 0.1138\n",
            "Epoch 86/100\n",
            "\u001b[1m13/13\u001b[0m \u001b[32m━━━━━━━━━━━━━━━━━━━━\u001b[0m\u001b[37m\u001b[0m \u001b[1m0s\u001b[0m 8ms/step - accuracy: 0.9816 - loss: 0.1023 - val_accuracy: 0.9708 - val_loss: 0.1132\n",
            "Epoch 87/100\n",
            "\u001b[1m13/13\u001b[0m \u001b[32m━━━━━━━━━━━━━━━━━━━━\u001b[0m\u001b[37m\u001b[0m \u001b[1m0s\u001b[0m 8ms/step - accuracy: 0.9839 - loss: 0.0937 - val_accuracy: 0.9708 - val_loss: 0.1126\n",
            "Epoch 88/100\n",
            "\u001b[1m13/13\u001b[0m \u001b[32m━━━━━━━━━━━━━━━━━━━━\u001b[0m\u001b[37m\u001b[0m \u001b[1m0s\u001b[0m 11ms/step - accuracy: 0.9863 - loss: 0.0926 - val_accuracy: 0.9708 - val_loss: 0.1121\n",
            "Epoch 89/100\n",
            "\u001b[1m13/13\u001b[0m \u001b[32m━━━━━━━━━━━━━━━━━━━━\u001b[0m\u001b[37m\u001b[0m \u001b[1m0s\u001b[0m 8ms/step - accuracy: 0.9814 - loss: 0.0971 - val_accuracy: 0.9708 - val_loss: 0.1116\n",
            "Epoch 90/100\n",
            "\u001b[1m13/13\u001b[0m \u001b[32m━━━━━━━━━━━━━━━━━━━━\u001b[0m\u001b[37m\u001b[0m \u001b[1m0s\u001b[0m 8ms/step - accuracy: 0.9885 - loss: 0.0943 - val_accuracy: 0.9708 - val_loss: 0.1109\n",
            "Epoch 91/100\n",
            "\u001b[1m13/13\u001b[0m \u001b[32m━━━━━━━━━━━━━━━━━━━━\u001b[0m\u001b[37m\u001b[0m \u001b[1m0s\u001b[0m 11ms/step - accuracy: 0.9776 - loss: 0.1125 - val_accuracy: 0.9708 - val_loss: 0.1104\n",
            "Epoch 92/100\n",
            "\u001b[1m13/13\u001b[0m \u001b[32m━━━━━━━━━━━━━━━━━━━━\u001b[0m\u001b[37m\u001b[0m \u001b[1m0s\u001b[0m 8ms/step - accuracy: 0.9807 - loss: 0.0999 - val_accuracy: 0.9708 - val_loss: 0.1098\n",
            "Epoch 93/100\n",
            "\u001b[1m13/13\u001b[0m \u001b[32m━━━━━━━━━━━━━━━━━━━━\u001b[0m\u001b[37m\u001b[0m \u001b[1m0s\u001b[0m 12ms/step - accuracy: 0.9818 - loss: 0.0977 - val_accuracy: 0.9708 - val_loss: 0.1093\n",
            "Epoch 94/100\n",
            "\u001b[1m13/13\u001b[0m \u001b[32m━━━━━━━━━━━━━━━━━━━━\u001b[0m\u001b[37m\u001b[0m \u001b[1m0s\u001b[0m 14ms/step - accuracy: 0.9770 - loss: 0.1047 - val_accuracy: 0.9708 - val_loss: 0.1088\n",
            "Epoch 95/100\n",
            "\u001b[1m13/13\u001b[0m \u001b[32m━━━━━━━━━━━━━━━━━━━━\u001b[0m\u001b[37m\u001b[0m \u001b[1m0s\u001b[0m 11ms/step - accuracy: 0.9850 - loss: 0.1017 - val_accuracy: 0.9708 - val_loss: 0.1084\n",
            "Epoch 96/100\n",
            "\u001b[1m13/13\u001b[0m \u001b[32m━━━━━━━━━━━━━━━━━━━━\u001b[0m\u001b[37m\u001b[0m \u001b[1m0s\u001b[0m 11ms/step - accuracy: 0.9809 - loss: 0.0950 - val_accuracy: 0.9708 - val_loss: 0.1079\n",
            "Epoch 97/100\n",
            "\u001b[1m13/13\u001b[0m \u001b[32m━━━━━━━━━━━━━━━━━━━━\u001b[0m\u001b[37m\u001b[0m \u001b[1m0s\u001b[0m 11ms/step - accuracy: 0.9702 - loss: 0.1128 - val_accuracy: 0.9708 - val_loss: 0.1074\n",
            "Epoch 98/100\n",
            "\u001b[1m13/13\u001b[0m \u001b[32m━━━━━━━━━━━━━━━━━━━━\u001b[0m\u001b[37m\u001b[0m \u001b[1m0s\u001b[0m 14ms/step - accuracy: 0.9829 - loss: 0.0917 - val_accuracy: 0.9708 - val_loss: 0.1069\n",
            "Epoch 99/100\n",
            "\u001b[1m13/13\u001b[0m \u001b[32m━━━━━━━━━━━━━━━━━━━━\u001b[0m\u001b[37m\u001b[0m \u001b[1m0s\u001b[0m 14ms/step - accuracy: 0.9831 - loss: 0.0916 - val_accuracy: 0.9708 - val_loss: 0.1064\n",
            "Epoch 100/100\n",
            "\u001b[1m13/13\u001b[0m \u001b[32m━━━━━━━━━━━━━━━━━━━━\u001b[0m\u001b[37m\u001b[0m \u001b[1m0s\u001b[0m 10ms/step - accuracy: 0.9864 - loss: 0.0931 - val_accuracy: 0.9708 - val_loss: 0.1059\n"
          ]
        }
      ]
    },
    {
      "cell_type": "code",
      "source": [
        "print(\"Train Score: \", model.evaluate(X_train, y_train))\n",
        "print(\"Test Score: \", model.evaluate(X_test, y_test))"
      ],
      "metadata": {
        "colab": {
          "base_uri": "https://localhost:8080/"
        },
        "id": "hxI5KHyK4yBG",
        "outputId": "13d0f787-8786-4fbe-9e9c-b81e19f0992c"
      },
      "execution_count": 13,
      "outputs": [
        {
          "output_type": "stream",
          "name": "stdout",
          "text": [
            "\u001b[1m13/13\u001b[0m \u001b[32m━━━━━━━━━━━━━━━━━━━━\u001b[0m\u001b[37m\u001b[0m \u001b[1m0s\u001b[0m 3ms/step - accuracy: 0.9807 - loss: 0.0954 \n",
            "Train Score:  [0.09600242227315903, 0.9824120402336121]\n",
            "\u001b[1m6/6\u001b[0m \u001b[32m━━━━━━━━━━━━━━━━━━━━\u001b[0m\u001b[37m\u001b[0m \u001b[1m0s\u001b[0m 6ms/step - accuracy: 0.9775 - loss: 0.0962 \n",
            "Test Score:  [0.105872742831707, 0.9707602262496948]\n"
          ]
        }
      ]
    },
    {
      "cell_type": "code",
      "source": [
        "import matplotlib.pyplot as plt\n",
        "plt.plot(r.history['loss'], label='Loss')\n",
        "plt.plot(r.history['val_loss'], label='Validation Loss')\n",
        "plt.legend()"
      ],
      "metadata": {
        "colab": {
          "base_uri": "https://localhost:8080/",
          "height": 448
        },
        "id": "R1y-T66A5QL_",
        "outputId": "6dca28b4-10e5-4576-e916-ee30bc9ba5ed"
      },
      "execution_count": 14,
      "outputs": [
        {
          "output_type": "execute_result",
          "data": {
            "text/plain": [
              "<matplotlib.legend.Legend at 0x7df866f022d0>"
            ]
          },
          "metadata": {},
          "execution_count": 14
        },
        {
          "output_type": "display_data",
          "data": {
            "text/plain": [
              "<Figure size 640x480 with 1 Axes>"
            ],
            "image/png": "[encoded data removed]"
          },
          "metadata": {}
        }
      ]
    },
    {
      "cell_type": "code",
      "source": [
        "plt.plot(r.history['accuracy'], label = 'Accuracy')\n",
        "plt.plot(r.history['val_accuracy'], label = 'Validation Accuracy')\n",
        "plt.legend()"
      ],
      "metadata": {
        "colab": {
          "base_uri": "https://localhost:8080/",
          "height": 447
        },
        "id": "oTmEz8lz6TNm",
        "outputId": "81027de6-d0ed-4e27-ffd1-157974f1d81a"
      },
      "execution_count": 15,
      "outputs": [
        {
          "output_type": "execute_result",
          "data": {
            "text/plain": [
              "<matplotlib.legend.Legend at 0x7df8671afbf0>"
            ]
          },
          "metadata": {},
          "execution_count": 15
        },
        {
          "output_type": "display_data",
          "data": {
            "text/plain": [
              "<Figure size 640x480 with 1 Axes>"
            ],
            "image/png": "[encoded data removed]"
          },
          "metadata": {}
        }
      ]
    },
    {
      "cell_type": "markdown",
      "source": [
        "## Part 2: Making Predictions"
      ],
      "metadata": {
        "id": "5QjI35epO99B"
      }
    },
    {
      "cell_type": "code",
      "source": [
        "P = model.predict(X_test)\n",
        "P  # They are outputs of the sigmoid, interpreted as probabilities p(y = 1 | x)"
      ],
      "metadata": {
        "colab": {
          "base_uri": "https://localhost:8080/"
        },
        "id": "VJBMUcsUO9Kz",
        "outputId": "5ba5e53f-e0a4-4f58-8a48-ad8dbc31eca3"
      },
      "execution_count": 16,
      "outputs": [
        {
          "output_type": "stream",
          "name": "stdout",
          "text": [
            "\u001b[1m6/6\u001b[0m \u001b[32m━━━━━━━━━━━━━━━━━━━━\u001b[0m\u001b[37m\u001b[0m \u001b[1m0s\u001b[0m 15ms/step\n"
          ]
        },
        {
          "output_type": "execute_result",
          "data": {
            "text/plain": [
              "array([[5.07660792e-04],\n",
              "       [9.04713333e-01],\n",
              "       [8.08329787e-03],\n",
              "       [7.35501051e-02],\n",
              "       [9.97796357e-01],\n",
              "       [3.20697218e-01],\n",
              "       [3.00608844e-01],\n",
              "       [8.76982172e-04],\n",
              "       [6.10875571e-03],\n",
              "       [9.96079803e-01],\n",
              "       [1.80766005e-02],\n",
              "       [9.81098950e-01],\n",
              "       [9.28810060e-01],\n",
              "       [3.94649012e-03],\n",
              "       [7.38959134e-01],\n",
              "       [8.80156338e-01],\n",
              "       [1.47635649e-06],\n",
              "       [8.22238803e-01],\n",
              "       [4.12297919e-02],\n",
              "       [9.22783315e-01],\n",
              "       [9.91176963e-01],\n",
              "       [1.42096728e-01],\n",
              "       [2.66626826e-04],\n",
              "       [9.84566510e-01],\n",
              "       [9.81629848e-01],\n",
              "       [9.84159946e-01],\n",
              "       [9.74737525e-01],\n",
              "       [5.15307188e-01],\n",
              "       [9.82148588e-01],\n",
              "       [9.87928927e-01],\n",
              "       [1.12764596e-04],\n",
              "       [9.57688987e-01],\n",
              "       [3.34466636e-01],\n",
              "       [9.66167271e-01],\n",
              "       [9.92024362e-01],\n",
              "       [9.98231173e-01],\n",
              "       [1.59466325e-03],\n",
              "       [5.04488617e-06],\n",
              "       [9.80511367e-01],\n",
              "       [9.74001467e-01],\n",
              "       [3.86212528e-01],\n",
              "       [3.55774969e-01],\n",
              "       [9.70482826e-01],\n",
              "       [5.02887415e-04],\n",
              "       [4.31741476e-01],\n",
              "       [9.94211614e-01],\n",
              "       [1.96629018e-01],\n",
              "       [9.90005672e-01],\n",
              "       [1.14464303e-02],\n",
              "       [9.98337090e-01],\n",
              "       [9.95744288e-01],\n",
              "       [8.95065779e-04],\n",
              "       [9.81080770e-01],\n",
              "       [9.57410872e-01],\n",
              "       [9.98015583e-01],\n",
              "       [9.80017662e-01],\n",
              "       [5.05268537e-02],\n",
              "       [8.98004234e-01],\n",
              "       [4.11723100e-04],\n",
              "       [9.74583998e-03],\n",
              "       [9.91122246e-01],\n",
              "       [9.46667671e-01],\n",
              "       [9.97935772e-01],\n",
              "       [9.96094227e-01],\n",
              "       [7.12068677e-02],\n",
              "       [1.65085638e-07],\n",
              "       [9.53415096e-01],\n",
              "       [9.30829883e-01],\n",
              "       [2.75615126e-01],\n",
              "       [9.91671383e-01],\n",
              "       [9.47155237e-01],\n",
              "       [9.98528838e-01],\n",
              "       [2.92361155e-03],\n",
              "       [9.95079279e-01],\n",
              "       [9.85567689e-01],\n",
              "       [1.62529536e-02],\n",
              "       [9.82792258e-01],\n",
              "       [9.09234762e-01],\n",
              "       [9.96159494e-01],\n",
              "       [9.54730213e-02],\n",
              "       [9.61450517e-01],\n",
              "       [9.98018980e-01],\n",
              "       [9.88759279e-01],\n",
              "       [5.07223725e-01],\n",
              "       [7.87514687e-01],\n",
              "       [9.64643061e-01],\n",
              "       [1.78525403e-01],\n",
              "       [6.81845427e-01],\n",
              "       [7.61215994e-03],\n",
              "       [9.79498565e-01],\n",
              "       [9.55467165e-01],\n",
              "       [8.74123350e-03],\n",
              "       [9.96692181e-01],\n",
              "       [9.99133945e-01],\n",
              "       [4.80953488e-04],\n",
              "       [9.20731604e-01],\n",
              "       [8.18379596e-02],\n",
              "       [5.16720712e-01],\n",
              "       [9.93535399e-01],\n",
              "       [9.83065784e-01],\n",
              "       [9.84059989e-01],\n",
              "       [4.73972529e-01],\n",
              "       [5.04233129e-02],\n",
              "       [1.86426257e-06],\n",
              "       [9.49990094e-01],\n",
              "       [9.83888805e-01],\n",
              "       [5.67826151e-04],\n",
              "       [3.68555218e-01],\n",
              "       [9.30539608e-01],\n",
              "       [1.54604008e-02],\n",
              "       [9.78537679e-01],\n",
              "       [7.66326666e-01],\n",
              "       [9.65007782e-01],\n",
              "       [9.97380614e-01],\n",
              "       [9.16924596e-01],\n",
              "       [9.95172143e-01],\n",
              "       [9.97458458e-01],\n",
              "       [9.41058159e-01],\n",
              "       [9.87142265e-01],\n",
              "       [2.22037925e-04],\n",
              "       [9.97207701e-01],\n",
              "       [2.29059197e-02],\n",
              "       [9.77554023e-01],\n",
              "       [2.58709379e-02],\n",
              "       [9.66702580e-01],\n",
              "       [9.67969358e-01],\n",
              "       [9.96345162e-01],\n",
              "       [5.72530771e-05],\n",
              "       [8.14206243e-01],\n",
              "       [9.97001588e-01],\n",
              "       [9.92610216e-01],\n",
              "       [4.52789843e-01],\n",
              "       [9.98572588e-01],\n",
              "       [9.86137748e-01],\n",
              "       [9.87743735e-01],\n",
              "       [5.55046936e-05],\n",
              "       [1.57106939e-07],\n",
              "       [9.98812556e-01],\n",
              "       [9.79095399e-01],\n",
              "       [9.48444903e-01],\n",
              "       [7.93662727e-01],\n",
              "       [6.93883896e-01],\n",
              "       [9.94281888e-01],\n",
              "       [7.65396655e-02],\n",
              "       [1.32056370e-01],\n",
              "       [8.06834474e-02],\n",
              "       [9.40556288e-01],\n",
              "       [9.68834162e-01],\n",
              "       [9.96664286e-01],\n",
              "       [7.84789324e-01],\n",
              "       [1.76292852e-01],\n",
              "       [9.76258814e-01],\n",
              "       [9.98906434e-01],\n",
              "       [7.53605306e-01],\n",
              "       [8.15543626e-03],\n",
              "       [3.42329055e-01],\n",
              "       [8.89698327e-01],\n",
              "       [4.70881045e-01],\n",
              "       [8.72221529e-01],\n",
              "       [9.98632431e-01],\n",
              "       [9.93998408e-01],\n",
              "       [9.89564359e-01],\n",
              "       [1.28391967e-03],\n",
              "       [9.10627246e-01],\n",
              "       [1.06497937e-04],\n",
              "       [6.42403165e-07],\n",
              "       [9.91319954e-01],\n",
              "       [7.12636858e-03],\n",
              "       [3.02449584e-01],\n",
              "       [9.52104449e-01],\n",
              "       [9.57295954e-01]], dtype=float32)"
            ]
          },
          "metadata": {},
          "execution_count": 16
        }
      ]
    },
    {
      "cell_type": "code",
      "source": [
        "# Round to get the actual predictions\n",
        "# Note: has to be flattered since the targets are size (N,) while the predictions are size (N,1)\n",
        "import numpy as np\n",
        "P = np.round(P).flatten()\n",
        "P"
      ],
      "metadata": {
        "id": "lR-UGP0AJPUr",
        "colab": {
          "base_uri": "https://localhost:8080/"
        },
        "outputId": "5a0a050f-cc93-430c-bb76-cfcd67f3821e"
      },
      "execution_count": 17,
      "outputs": [
        {
          "output_type": "execute_result",
          "data": {
            "text/plain": [
              "array([0., 1., 0., 0., 1., 0., 0., 0., 0., 1., 0., 1., 1., 0., 1., 1., 0.,\n",
              "       1., 0., 1., 1., 0., 0., 1., 1., 1., 1., 1., 1., 1., 0., 1., 0., 1.,\n",
              "       1., 1., 0., 0., 1., 1., 0., 0., 1., 0., 0., 1., 0., 1., 0., 1., 1.,\n",
              "       0., 1., 1., 1., 1., 0., 1., 0., 0., 1., 1., 1., 1., 0., 0., 1., 1.,\n",
              "       0., 1., 1., 1., 0., 1., 1., 0., 1., 1., 1., 0., 1., 1., 1., 1., 1.,\n",
              "       1., 0., 1., 0., 1., 1., 0., 1., 1., 0., 1., 0., 1., 1., 1., 1., 0.,\n",
              "       0., 0., 1., 1., 0., 0., 1., 0., 1., 1., 1., 1., 1., 1., 1., 1., 1.,\n",
              "       0., 1., 0., 1., 0., 1., 1., 1., 0., 1., 1., 1., 0., 1., 1., 1., 0.,\n",
              "       0., 1., 1., 1., 1., 1., 1., 0., 0., 0., 1., 1., 1., 1., 0., 1., 1.,\n",
              "       1., 0., 0., 1., 0., 1., 1., 1., 1., 0., 1., 0., 0., 1., 0., 0., 1.,\n",
              "       1.], dtype=float32)"
            ]
          },
          "metadata": {},
          "execution_count": 17
        }
      ]
    },
    {
      "cell_type": "code",
      "source": [
        "# Calculate the accuracy, compare it to evaluate() output\n",
        "print(\"Manually calculated accuracy: \", np.mean(P == y_test)) # P == y_test genera un array booleano del mismo tamaño, donde cada elemento es True o False\n",
        "print(\"Evaluate output: \", model.evaluate(X_test, y_test))"
      ],
      "metadata": {
        "colab": {
          "base_uri": "https://localhost:8080/"
        },
        "id": "j3NCZ_fkPOfA",
        "outputId": "7ed6998f-26f4-4416-cc15-488ec06f3fba"
      },
      "execution_count": 19,
      "outputs": [
        {
          "output_type": "stream",
          "name": "stdout",
          "text": [
            "Manually calculated accuracy:  0.9707602339181286\n",
            "\u001b[1m6/6\u001b[0m \u001b[32m━━━━━━━━━━━━━━━━━━━━\u001b[0m\u001b[37m\u001b[0m \u001b[1m0s\u001b[0m 6ms/step - accuracy: 0.9775 - loss: 0.0962 \n",
            "Evaluate output:  [0.105872742831707, 0.9707602262496948]\n"
          ]
        }
      ]
    },
    {
      "cell_type": "markdown",
      "source": [
        "## Part 3 : Saving and Loading a Model"
      ],
      "metadata": {
        "id": "RASX9B-aTdvY"
      }
    },
    {
      "cell_type": "code",
      "source": [
        "# Let's now save our model to a file\n",
        "model.save('linearClassifier.h5')"
      ],
      "metadata": {
        "id": "2-eGZHKZQXMs"
      },
      "execution_count": null,
      "outputs": []
    },
    {
      "cell_type": "code",
      "source": [
        "# Check taht the model file exist\n",
        "!ls -lh"
      ],
      "metadata": {
        "id": "rPAXllLjTuu7"
      },
      "execution_count": null,
      "outputs": []
    },
    {
      "cell_type": "code",
      "source": [
        "# Let's load the model and confirm taht it still works\n",
        "# Note: There is a bug in keras where load/save only works if you DON'T use the input() layer explicity\n",
        "# So, male sure you define the model with ONLY Dense(1, input_shape=(D,))\n",
        "# At least, until the bug is fixed\n",
        "# https://github.com/keras-team/keras/issues/10417\n",
        "model = tf.keras.models.load_model('linearClassifier.h5')\n",
        "print(model.layers)\n",
        "model.evaluate(X_test, y_test)"
      ],
      "metadata": {
        "id": "I1K0NWsXT1Wi"
      },
      "execution_count": null,
      "outputs": []
    }
  ]
}